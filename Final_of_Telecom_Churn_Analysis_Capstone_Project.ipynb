{
  "nbformat": 4,
  "nbformat_minor": 0,
  "metadata": {
    "kernelspec": {
      "display_name": "Python 3",
      "language": "python",
      "name": "python3"
    },
    "language_info": {
      "codemirror_mode": {
        "name": "ipython",
        "version": 3
      },
      "file_extension": ".py",
      "mimetype": "text/x-python",
      "name": "python",
      "nbconvert_exporter": "python",
      "pygments_lexer": "ipython3",
      "version": "3.6.6"
    },
    "colab": {
      "provenance": [],
      "collapsed_sections": [],
      "include_colab_link": true
    }
  },
  "cells": [
    {
      "cell_type": "markdown",
      "metadata": {
        "id": "view-in-github",
        "colab_type": "text"
      },
      "source": [
        "<a href=\"https://colab.research.google.com/github/VIKAS2412-BYTE/Telecom_Churn_Data_Analysis/blob/main/Final_of_Telecom_Churn_Analysis_Capstone_Project.ipynb\" target=\"_parent\"><img src=\"https://colab.research.google.com/assets/colab-badge.svg\" alt=\"Open In Colab\"/></a>"
      ]
    },
    {
      "cell_type": "markdown",
      "metadata": {
        "id": "Y06xIdG26kRF"
      },
      "source": [
        "## <b> Orange S.A., formerly France Télécom S.A., is a French multinational telecommunications corporation. The Orange Telecom's Churn Dataset, consists of cleaned customer activity data (features), along with a churn label specifying whether a customer canceled the subscription.\n",
        "\n",
        "## <b> Explore and analyze the data to discover key factors responsible for customer churn and come up with ways/recommendations to ensure customer retention. </b>"
      ]
    },
    {
      "cell_type": "code",
      "metadata": {
        "id": "dByMsuzT8Tnw"
      },
      "source": [
        "#importing required libraries\n",
        "import numpy as np\n",
        "import pandas as pd\n",
        "import matplotlib.pyplot as plt\n",
        "import matplotlib.style as style"
      ],
      "execution_count": null,
      "outputs": []
    },
    {
      "cell_type": "code",
      "source": [
        "#mouting google drive\n",
        "from google.colab import drive\n",
        "drive.mount('/content/drive')"
      ],
      "metadata": {
        "id": "FoYmcsTkvRWT",
        "colab": {
          "base_uri": "https://localhost:8080/"
        },
        "outputId": "fafb562d-0075-430a-b61f-6d969b27cad1"
      },
      "execution_count": null,
      "outputs": [
        {
          "output_type": "stream",
          "name": "stdout",
          "text": [
            "Drive already mounted at /content/drive; to attempt to forcibly remount, call drive.mount(\"/content/drive\", force_remount=True).\n"
          ]
        }
      ]
    },
    {
      "cell_type": "code",
      "source": [
        "#reading csv data\n",
        "df =pd.read_csv(\"drive/My Drive/Colab Notebooks/Copy of Telecom Churn.csv\")"
      ],
      "metadata": {
        "id": "CYdTrc-kvU3u"
      },
      "execution_count": null,
      "outputs": []
    },
    {
      "cell_type": "code",
      "source": [
        "#configuration of the table\n",
        "df.shape"
      ],
      "metadata": {
        "id": "TJMRngyrvlO5",
        "colab": {
          "base_uri": "https://localhost:8080/"
        },
        "outputId": "e1b65da3-f81b-4e63-8bcb-c3f6105ab176"
      },
      "execution_count": null,
      "outputs": [
        {
          "output_type": "execute_result",
          "data": {
            "text/plain": [
              "(3333, 20)"
            ]
          },
          "metadata": {},
          "execution_count": 151
        }
      ]
    },
    {
      "cell_type": "code",
      "source": [
        "#showing the table\n",
        "df.head()"
      ],
      "metadata": {
        "id": "VHj6m-eBvn0c",
        "colab": {
          "base_uri": "https://localhost:8080/",
          "height": 285
        },
        "outputId": "1dd8f022-285f-4099-e95b-6f638d3435f6"
      },
      "execution_count": null,
      "outputs": [
        {
          "output_type": "execute_result",
          "data": {
            "text/plain": [
              "  State  Account length  Area code International plan Voice mail plan  \\\n",
              "0    KS             128        415                 No             Yes   \n",
              "1    OH             107        415                 No             Yes   \n",
              "2    NJ             137        415                 No              No   \n",
              "3    OH              84        408                Yes              No   \n",
              "4    OK              75        415                Yes              No   \n",
              "\n",
              "   Number vmail messages  Total day minutes  Total day calls  \\\n",
              "0                     25              265.1              110   \n",
              "1                     26              161.6              123   \n",
              "2                      0              243.4              114   \n",
              "3                      0              299.4               71   \n",
              "4                      0              166.7              113   \n",
              "\n",
              "   Total day charge  Total eve minutes  Total eve calls  Total eve charge  \\\n",
              "0             45.07              197.4               99             16.78   \n",
              "1             27.47              195.5              103             16.62   \n",
              "2             41.38              121.2              110             10.30   \n",
              "3             50.90               61.9               88              5.26   \n",
              "4             28.34              148.3              122             12.61   \n",
              "\n",
              "   Total night minutes  Total night calls  Total night charge  \\\n",
              "0                244.7                 91               11.01   \n",
              "1                254.4                103               11.45   \n",
              "2                162.6                104                7.32   \n",
              "3                196.9                 89                8.86   \n",
              "4                186.9                121                8.41   \n",
              "\n",
              "   Total intl minutes  Total intl calls  Total intl charge  \\\n",
              "0                10.0                 3               2.70   \n",
              "1                13.7                 3               3.70   \n",
              "2                12.2                 5               3.29   \n",
              "3                 6.6                 7               1.78   \n",
              "4                10.1                 3               2.73   \n",
              "\n",
              "   Customer service calls  Churn  \n",
              "0                       1  False  \n",
              "1                       1  False  \n",
              "2                       0  False  \n",
              "3                       2  False  \n",
              "4                       3  False  "
            ],
            "text/html": [
              "\n",
              "  <div id=\"df-2cc0a028-7735-43b4-b08f-736041aa0655\">\n",
              "    <div class=\"colab-df-container\">\n",
              "      <div>\n",
              "<style scoped>\n",
              "    .dataframe tbody tr th:only-of-type {\n",
              "        vertical-align: middle;\n",
              "    }\n",
              "\n",
              "    .dataframe tbody tr th {\n",
              "        vertical-align: top;\n",
              "    }\n",
              "\n",
              "    .dataframe thead th {\n",
              "        text-align: right;\n",
              "    }\n",
              "</style>\n",
              "<table border=\"1\" class=\"dataframe\">\n",
              "  <thead>\n",
              "    <tr style=\"text-align: right;\">\n",
              "      <th></th>\n",
              "      <th>State</th>\n",
              "      <th>Account length</th>\n",
              "      <th>Area code</th>\n",
              "      <th>International plan</th>\n",
              "      <th>Voice mail plan</th>\n",
              "      <th>Number vmail messages</th>\n",
              "      <th>Total day minutes</th>\n",
              "      <th>Total day calls</th>\n",
              "      <th>Total day charge</th>\n",
              "      <th>Total eve minutes</th>\n",
              "      <th>Total eve calls</th>\n",
              "      <th>Total eve charge</th>\n",
              "      <th>Total night minutes</th>\n",
              "      <th>Total night calls</th>\n",
              "      <th>Total night charge</th>\n",
              "      <th>Total intl minutes</th>\n",
              "      <th>Total intl calls</th>\n",
              "      <th>Total intl charge</th>\n",
              "      <th>Customer service calls</th>\n",
              "      <th>Churn</th>\n",
              "    </tr>\n",
              "  </thead>\n",
              "  <tbody>\n",
              "    <tr>\n",
              "      <th>0</th>\n",
              "      <td>KS</td>\n",
              "      <td>128</td>\n",
              "      <td>415</td>\n",
              "      <td>No</td>\n",
              "      <td>Yes</td>\n",
              "      <td>25</td>\n",
              "      <td>265.1</td>\n",
              "      <td>110</td>\n",
              "      <td>45.07</td>\n",
              "      <td>197.4</td>\n",
              "      <td>99</td>\n",
              "      <td>16.78</td>\n",
              "      <td>244.7</td>\n",
              "      <td>91</td>\n",
              "      <td>11.01</td>\n",
              "      <td>10.0</td>\n",
              "      <td>3</td>\n",
              "      <td>2.70</td>\n",
              "      <td>1</td>\n",
              "      <td>False</td>\n",
              "    </tr>\n",
              "    <tr>\n",
              "      <th>1</th>\n",
              "      <td>OH</td>\n",
              "      <td>107</td>\n",
              "      <td>415</td>\n",
              "      <td>No</td>\n",
              "      <td>Yes</td>\n",
              "      <td>26</td>\n",
              "      <td>161.6</td>\n",
              "      <td>123</td>\n",
              "      <td>27.47</td>\n",
              "      <td>195.5</td>\n",
              "      <td>103</td>\n",
              "      <td>16.62</td>\n",
              "      <td>254.4</td>\n",
              "      <td>103</td>\n",
              "      <td>11.45</td>\n",
              "      <td>13.7</td>\n",
              "      <td>3</td>\n",
              "      <td>3.70</td>\n",
              "      <td>1</td>\n",
              "      <td>False</td>\n",
              "    </tr>\n",
              "    <tr>\n",
              "      <th>2</th>\n",
              "      <td>NJ</td>\n",
              "      <td>137</td>\n",
              "      <td>415</td>\n",
              "      <td>No</td>\n",
              "      <td>No</td>\n",
              "      <td>0</td>\n",
              "      <td>243.4</td>\n",
              "      <td>114</td>\n",
              "      <td>41.38</td>\n",
              "      <td>121.2</td>\n",
              "      <td>110</td>\n",
              "      <td>10.30</td>\n",
              "      <td>162.6</td>\n",
              "      <td>104</td>\n",
              "      <td>7.32</td>\n",
              "      <td>12.2</td>\n",
              "      <td>5</td>\n",
              "      <td>3.29</td>\n",
              "      <td>0</td>\n",
              "      <td>False</td>\n",
              "    </tr>\n",
              "    <tr>\n",
              "      <th>3</th>\n",
              "      <td>OH</td>\n",
              "      <td>84</td>\n",
              "      <td>408</td>\n",
              "      <td>Yes</td>\n",
              "      <td>No</td>\n",
              "      <td>0</td>\n",
              "      <td>299.4</td>\n",
              "      <td>71</td>\n",
              "      <td>50.90</td>\n",
              "      <td>61.9</td>\n",
              "      <td>88</td>\n",
              "      <td>5.26</td>\n",
              "      <td>196.9</td>\n",
              "      <td>89</td>\n",
              "      <td>8.86</td>\n",
              "      <td>6.6</td>\n",
              "      <td>7</td>\n",
              "      <td>1.78</td>\n",
              "      <td>2</td>\n",
              "      <td>False</td>\n",
              "    </tr>\n",
              "    <tr>\n",
              "      <th>4</th>\n",
              "      <td>OK</td>\n",
              "      <td>75</td>\n",
              "      <td>415</td>\n",
              "      <td>Yes</td>\n",
              "      <td>No</td>\n",
              "      <td>0</td>\n",
              "      <td>166.7</td>\n",
              "      <td>113</td>\n",
              "      <td>28.34</td>\n",
              "      <td>148.3</td>\n",
              "      <td>122</td>\n",
              "      <td>12.61</td>\n",
              "      <td>186.9</td>\n",
              "      <td>121</td>\n",
              "      <td>8.41</td>\n",
              "      <td>10.1</td>\n",
              "      <td>3</td>\n",
              "      <td>2.73</td>\n",
              "      <td>3</td>\n",
              "      <td>False</td>\n",
              "    </tr>\n",
              "  </tbody>\n",
              "</table>\n",
              "</div>\n",
              "      <button class=\"colab-df-convert\" onclick=\"convertToInteractive('df-2cc0a028-7735-43b4-b08f-736041aa0655')\"\n",
              "              title=\"Convert this dataframe to an interactive table.\"\n",
              "              style=\"display:none;\">\n",
              "        \n",
              "  <svg xmlns=\"http://www.w3.org/2000/svg\" height=\"24px\"viewBox=\"0 0 24 24\"\n",
              "       width=\"24px\">\n",
              "    <path d=\"M0 0h24v24H0V0z\" fill=\"none\"/>\n",
              "    <path d=\"M18.56 5.44l.94 2.06.94-2.06 2.06-.94-2.06-.94-.94-2.06-.94 2.06-2.06.94zm-11 1L8.5 8.5l.94-2.06 2.06-.94-2.06-.94L8.5 2.5l-.94 2.06-2.06.94zm10 10l.94 2.06.94-2.06 2.06-.94-2.06-.94-.94-2.06-.94 2.06-2.06.94z\"/><path d=\"M17.41 7.96l-1.37-1.37c-.4-.4-.92-.59-1.43-.59-.52 0-1.04.2-1.43.59L10.3 9.45l-7.72 7.72c-.78.78-.78 2.05 0 2.83L4 21.41c.39.39.9.59 1.41.59.51 0 1.02-.2 1.41-.59l7.78-7.78 2.81-2.81c.8-.78.8-2.07 0-2.86zM5.41 20L4 18.59l7.72-7.72 1.47 1.35L5.41 20z\"/>\n",
              "  </svg>\n",
              "      </button>\n",
              "      \n",
              "  <style>\n",
              "    .colab-df-container {\n",
              "      display:flex;\n",
              "      flex-wrap:wrap;\n",
              "      gap: 12px;\n",
              "    }\n",
              "\n",
              "    .colab-df-convert {\n",
              "      background-color: #E8F0FE;\n",
              "      border: none;\n",
              "      border-radius: 50%;\n",
              "      cursor: pointer;\n",
              "      display: none;\n",
              "      fill: #1967D2;\n",
              "      height: 32px;\n",
              "      padding: 0 0 0 0;\n",
              "      width: 32px;\n",
              "    }\n",
              "\n",
              "    .colab-df-convert:hover {\n",
              "      background-color: #E2EBFA;\n",
              "      box-shadow: 0px 1px 2px rgba(60, 64, 67, 0.3), 0px 1px 3px 1px rgba(60, 64, 67, 0.15);\n",
              "      fill: #174EA6;\n",
              "    }\n",
              "\n",
              "    [theme=dark] .colab-df-convert {\n",
              "      background-color: #3B4455;\n",
              "      fill: #D2E3FC;\n",
              "    }\n",
              "\n",
              "    [theme=dark] .colab-df-convert:hover {\n",
              "      background-color: #434B5C;\n",
              "      box-shadow: 0px 1px 3px 1px rgba(0, 0, 0, 0.15);\n",
              "      filter: drop-shadow(0px 1px 2px rgba(0, 0, 0, 0.3));\n",
              "      fill: #FFFFFF;\n",
              "    }\n",
              "  </style>\n",
              "\n",
              "      <script>\n",
              "        const buttonEl =\n",
              "          document.querySelector('#df-2cc0a028-7735-43b4-b08f-736041aa0655 button.colab-df-convert');\n",
              "        buttonEl.style.display =\n",
              "          google.colab.kernel.accessAllowed ? 'block' : 'none';\n",
              "\n",
              "        async function convertToInteractive(key) {\n",
              "          const element = document.querySelector('#df-2cc0a028-7735-43b4-b08f-736041aa0655');\n",
              "          const dataTable =\n",
              "            await google.colab.kernel.invokeFunction('convertToInteractive',\n",
              "                                                     [key], {});\n",
              "          if (!dataTable) return;\n",
              "\n",
              "          const docLinkHtml = 'Like what you see? Visit the ' +\n",
              "            '<a target=\"_blank\" href=https://colab.research.google.com/notebooks/data_table.ipynb>data table notebook</a>'\n",
              "            + ' to learn more about interactive tables.';\n",
              "          element.innerHTML = '';\n",
              "          dataTable['output_type'] = 'display_data';\n",
              "          await google.colab.output.renderOutput(dataTable, element);\n",
              "          const docLink = document.createElement('div');\n",
              "          docLink.innerHTML = docLinkHtml;\n",
              "          element.appendChild(docLink);\n",
              "        }\n",
              "      </script>\n",
              "    </div>\n",
              "  </div>\n",
              "  "
            ]
          },
          "metadata": {},
          "execution_count": 152
        }
      ]
    },
    {
      "cell_type": "code",
      "source": [
        "#information of table\n",
        "df.info()"
      ],
      "metadata": {
        "id": "IFkBmhwjxjGX",
        "colab": {
          "base_uri": "https://localhost:8080/"
        },
        "outputId": "f611aefd-bb38-4d94-dd19-93a667a9bf4d"
      },
      "execution_count": null,
      "outputs": [
        {
          "output_type": "stream",
          "name": "stdout",
          "text": [
            "<class 'pandas.core.frame.DataFrame'>\n",
            "RangeIndex: 3333 entries, 0 to 3332\n",
            "Data columns (total 20 columns):\n",
            " #   Column                  Non-Null Count  Dtype  \n",
            "---  ------                  --------------  -----  \n",
            " 0   State                   3333 non-null   object \n",
            " 1   Account length          3333 non-null   int64  \n",
            " 2   Area code               3333 non-null   int64  \n",
            " 3   International plan      3333 non-null   object \n",
            " 4   Voice mail plan         3333 non-null   object \n",
            " 5   Number vmail messages   3333 non-null   int64  \n",
            " 6   Total day minutes       3333 non-null   float64\n",
            " 7   Total day calls         3333 non-null   int64  \n",
            " 8   Total day charge        3333 non-null   float64\n",
            " 9   Total eve minutes       3333 non-null   float64\n",
            " 10  Total eve calls         3333 non-null   int64  \n",
            " 11  Total eve charge        3333 non-null   float64\n",
            " 12  Total night minutes     3333 non-null   float64\n",
            " 13  Total night calls       3333 non-null   int64  \n",
            " 14  Total night charge      3333 non-null   float64\n",
            " 15  Total intl minutes      3333 non-null   float64\n",
            " 16  Total intl calls        3333 non-null   int64  \n",
            " 17  Total intl charge       3333 non-null   float64\n",
            " 18  Customer service calls  3333 non-null   int64  \n",
            " 19  Churn                   3333 non-null   bool   \n",
            "dtypes: bool(1), float64(8), int64(8), object(3)\n",
            "memory usage: 498.1+ KB\n"
          ]
        }
      ]
    },
    {
      "cell_type": "markdown",
      "source": [
        "### #From above it becomes clear that the data is having no null values"
      ],
      "metadata": {
        "id": "INO7CJtPDBJA"
      }
    },
    {
      "cell_type": "code",
      "source": [
        "#description of table\n",
        "df.describe()"
      ],
      "metadata": {
        "colab": {
          "base_uri": "https://localhost:8080/",
          "height": 379
        },
        "id": "2bdQSIXrCzZR",
        "outputId": "3ae14306-fc37-46fe-d49e-3c2d291af641"
      },
      "execution_count": null,
      "outputs": [
        {
          "output_type": "execute_result",
          "data": {
            "text/plain": [
              "       Account length    Area code  Number vmail messages  Total day minutes  \\\n",
              "count     3333.000000  3333.000000            3333.000000        3333.000000   \n",
              "mean       101.064806   437.182418               8.099010         179.775098   \n",
              "std         39.822106    42.371290              13.688365          54.467389   \n",
              "min          1.000000   408.000000               0.000000           0.000000   \n",
              "25%         74.000000   408.000000               0.000000         143.700000   \n",
              "50%        101.000000   415.000000               0.000000         179.400000   \n",
              "75%        127.000000   510.000000              20.000000         216.400000   \n",
              "max        243.000000   510.000000              51.000000         350.800000   \n",
              "\n",
              "       Total day calls  Total day charge  Total eve minutes  Total eve calls  \\\n",
              "count      3333.000000       3333.000000        3333.000000      3333.000000   \n",
              "mean        100.435644         30.562307         200.980348       100.114311   \n",
              "std          20.069084          9.259435          50.713844        19.922625   \n",
              "min           0.000000          0.000000           0.000000         0.000000   \n",
              "25%          87.000000         24.430000         166.600000        87.000000   \n",
              "50%         101.000000         30.500000         201.400000       100.000000   \n",
              "75%         114.000000         36.790000         235.300000       114.000000   \n",
              "max         165.000000         59.640000         363.700000       170.000000   \n",
              "\n",
              "       Total eve charge  Total night minutes  Total night calls  \\\n",
              "count       3333.000000          3333.000000        3333.000000   \n",
              "mean          17.083540           200.872037         100.107711   \n",
              "std            4.310668            50.573847          19.568609   \n",
              "min            0.000000            23.200000          33.000000   \n",
              "25%           14.160000           167.000000          87.000000   \n",
              "50%           17.120000           201.200000         100.000000   \n",
              "75%           20.000000           235.300000         113.000000   \n",
              "max           30.910000           395.000000         175.000000   \n",
              "\n",
              "       Total night charge  Total intl minutes  Total intl calls  \\\n",
              "count         3333.000000         3333.000000       3333.000000   \n",
              "mean             9.039325           10.237294          4.479448   \n",
              "std              2.275873            2.791840          2.461214   \n",
              "min              1.040000            0.000000          0.000000   \n",
              "25%              7.520000            8.500000          3.000000   \n",
              "50%              9.050000           10.300000          4.000000   \n",
              "75%             10.590000           12.100000          6.000000   \n",
              "max             17.770000           20.000000         20.000000   \n",
              "\n",
              "       Total intl charge  Customer service calls  \n",
              "count        3333.000000             3333.000000  \n",
              "mean            2.764581                1.562856  \n",
              "std             0.753773                1.315491  \n",
              "min             0.000000                0.000000  \n",
              "25%             2.300000                1.000000  \n",
              "50%             2.780000                1.000000  \n",
              "75%             3.270000                2.000000  \n",
              "max             5.400000                9.000000  "
            ],
            "text/html": [
              "\n",
              "  <div id=\"df-b6ef4726-3eec-4af3-b604-a3d98bcb2a36\">\n",
              "    <div class=\"colab-df-container\">\n",
              "      <div>\n",
              "<style scoped>\n",
              "    .dataframe tbody tr th:only-of-type {\n",
              "        vertical-align: middle;\n",
              "    }\n",
              "\n",
              "    .dataframe tbody tr th {\n",
              "        vertical-align: top;\n",
              "    }\n",
              "\n",
              "    .dataframe thead th {\n",
              "        text-align: right;\n",
              "    }\n",
              "</style>\n",
              "<table border=\"1\" class=\"dataframe\">\n",
              "  <thead>\n",
              "    <tr style=\"text-align: right;\">\n",
              "      <th></th>\n",
              "      <th>Account length</th>\n",
              "      <th>Area code</th>\n",
              "      <th>Number vmail messages</th>\n",
              "      <th>Total day minutes</th>\n",
              "      <th>Total day calls</th>\n",
              "      <th>Total day charge</th>\n",
              "      <th>Total eve minutes</th>\n",
              "      <th>Total eve calls</th>\n",
              "      <th>Total eve charge</th>\n",
              "      <th>Total night minutes</th>\n",
              "      <th>Total night calls</th>\n",
              "      <th>Total night charge</th>\n",
              "      <th>Total intl minutes</th>\n",
              "      <th>Total intl calls</th>\n",
              "      <th>Total intl charge</th>\n",
              "      <th>Customer service calls</th>\n",
              "    </tr>\n",
              "  </thead>\n",
              "  <tbody>\n",
              "    <tr>\n",
              "      <th>count</th>\n",
              "      <td>3333.000000</td>\n",
              "      <td>3333.000000</td>\n",
              "      <td>3333.000000</td>\n",
              "      <td>3333.000000</td>\n",
              "      <td>3333.000000</td>\n",
              "      <td>3333.000000</td>\n",
              "      <td>3333.000000</td>\n",
              "      <td>3333.000000</td>\n",
              "      <td>3333.000000</td>\n",
              "      <td>3333.000000</td>\n",
              "      <td>3333.000000</td>\n",
              "      <td>3333.000000</td>\n",
              "      <td>3333.000000</td>\n",
              "      <td>3333.000000</td>\n",
              "      <td>3333.000000</td>\n",
              "      <td>3333.000000</td>\n",
              "    </tr>\n",
              "    <tr>\n",
              "      <th>mean</th>\n",
              "      <td>101.064806</td>\n",
              "      <td>437.182418</td>\n",
              "      <td>8.099010</td>\n",
              "      <td>179.775098</td>\n",
              "      <td>100.435644</td>\n",
              "      <td>30.562307</td>\n",
              "      <td>200.980348</td>\n",
              "      <td>100.114311</td>\n",
              "      <td>17.083540</td>\n",
              "      <td>200.872037</td>\n",
              "      <td>100.107711</td>\n",
              "      <td>9.039325</td>\n",
              "      <td>10.237294</td>\n",
              "      <td>4.479448</td>\n",
              "      <td>2.764581</td>\n",
              "      <td>1.562856</td>\n",
              "    </tr>\n",
              "    <tr>\n",
              "      <th>std</th>\n",
              "      <td>39.822106</td>\n",
              "      <td>42.371290</td>\n",
              "      <td>13.688365</td>\n",
              "      <td>54.467389</td>\n",
              "      <td>20.069084</td>\n",
              "      <td>9.259435</td>\n",
              "      <td>50.713844</td>\n",
              "      <td>19.922625</td>\n",
              "      <td>4.310668</td>\n",
              "      <td>50.573847</td>\n",
              "      <td>19.568609</td>\n",
              "      <td>2.275873</td>\n",
              "      <td>2.791840</td>\n",
              "      <td>2.461214</td>\n",
              "      <td>0.753773</td>\n",
              "      <td>1.315491</td>\n",
              "    </tr>\n",
              "    <tr>\n",
              "      <th>min</th>\n",
              "      <td>1.000000</td>\n",
              "      <td>408.000000</td>\n",
              "      <td>0.000000</td>\n",
              "      <td>0.000000</td>\n",
              "      <td>0.000000</td>\n",
              "      <td>0.000000</td>\n",
              "      <td>0.000000</td>\n",
              "      <td>0.000000</td>\n",
              "      <td>0.000000</td>\n",
              "      <td>23.200000</td>\n",
              "      <td>33.000000</td>\n",
              "      <td>1.040000</td>\n",
              "      <td>0.000000</td>\n",
              "      <td>0.000000</td>\n",
              "      <td>0.000000</td>\n",
              "      <td>0.000000</td>\n",
              "    </tr>\n",
              "    <tr>\n",
              "      <th>25%</th>\n",
              "      <td>74.000000</td>\n",
              "      <td>408.000000</td>\n",
              "      <td>0.000000</td>\n",
              "      <td>143.700000</td>\n",
              "      <td>87.000000</td>\n",
              "      <td>24.430000</td>\n",
              "      <td>166.600000</td>\n",
              "      <td>87.000000</td>\n",
              "      <td>14.160000</td>\n",
              "      <td>167.000000</td>\n",
              "      <td>87.000000</td>\n",
              "      <td>7.520000</td>\n",
              "      <td>8.500000</td>\n",
              "      <td>3.000000</td>\n",
              "      <td>2.300000</td>\n",
              "      <td>1.000000</td>\n",
              "    </tr>\n",
              "    <tr>\n",
              "      <th>50%</th>\n",
              "      <td>101.000000</td>\n",
              "      <td>415.000000</td>\n",
              "      <td>0.000000</td>\n",
              "      <td>179.400000</td>\n",
              "      <td>101.000000</td>\n",
              "      <td>30.500000</td>\n",
              "      <td>201.400000</td>\n",
              "      <td>100.000000</td>\n",
              "      <td>17.120000</td>\n",
              "      <td>201.200000</td>\n",
              "      <td>100.000000</td>\n",
              "      <td>9.050000</td>\n",
              "      <td>10.300000</td>\n",
              "      <td>4.000000</td>\n",
              "      <td>2.780000</td>\n",
              "      <td>1.000000</td>\n",
              "    </tr>\n",
              "    <tr>\n",
              "      <th>75%</th>\n",
              "      <td>127.000000</td>\n",
              "      <td>510.000000</td>\n",
              "      <td>20.000000</td>\n",
              "      <td>216.400000</td>\n",
              "      <td>114.000000</td>\n",
              "      <td>36.790000</td>\n",
              "      <td>235.300000</td>\n",
              "      <td>114.000000</td>\n",
              "      <td>20.000000</td>\n",
              "      <td>235.300000</td>\n",
              "      <td>113.000000</td>\n",
              "      <td>10.590000</td>\n",
              "      <td>12.100000</td>\n",
              "      <td>6.000000</td>\n",
              "      <td>3.270000</td>\n",
              "      <td>2.000000</td>\n",
              "    </tr>\n",
              "    <tr>\n",
              "      <th>max</th>\n",
              "      <td>243.000000</td>\n",
              "      <td>510.000000</td>\n",
              "      <td>51.000000</td>\n",
              "      <td>350.800000</td>\n",
              "      <td>165.000000</td>\n",
              "      <td>59.640000</td>\n",
              "      <td>363.700000</td>\n",
              "      <td>170.000000</td>\n",
              "      <td>30.910000</td>\n",
              "      <td>395.000000</td>\n",
              "      <td>175.000000</td>\n",
              "      <td>17.770000</td>\n",
              "      <td>20.000000</td>\n",
              "      <td>20.000000</td>\n",
              "      <td>5.400000</td>\n",
              "      <td>9.000000</td>\n",
              "    </tr>\n",
              "  </tbody>\n",
              "</table>\n",
              "</div>\n",
              "      <button class=\"colab-df-convert\" onclick=\"convertToInteractive('df-b6ef4726-3eec-4af3-b604-a3d98bcb2a36')\"\n",
              "              title=\"Convert this dataframe to an interactive table.\"\n",
              "              style=\"display:none;\">\n",
              "        \n",
              "  <svg xmlns=\"http://www.w3.org/2000/svg\" height=\"24px\"viewBox=\"0 0 24 24\"\n",
              "       width=\"24px\">\n",
              "    <path d=\"M0 0h24v24H0V0z\" fill=\"none\"/>\n",
              "    <path d=\"M18.56 5.44l.94 2.06.94-2.06 2.06-.94-2.06-.94-.94-2.06-.94 2.06-2.06.94zm-11 1L8.5 8.5l.94-2.06 2.06-.94-2.06-.94L8.5 2.5l-.94 2.06-2.06.94zm10 10l.94 2.06.94-2.06 2.06-.94-2.06-.94-.94-2.06-.94 2.06-2.06.94z\"/><path d=\"M17.41 7.96l-1.37-1.37c-.4-.4-.92-.59-1.43-.59-.52 0-1.04.2-1.43.59L10.3 9.45l-7.72 7.72c-.78.78-.78 2.05 0 2.83L4 21.41c.39.39.9.59 1.41.59.51 0 1.02-.2 1.41-.59l7.78-7.78 2.81-2.81c.8-.78.8-2.07 0-2.86zM5.41 20L4 18.59l7.72-7.72 1.47 1.35L5.41 20z\"/>\n",
              "  </svg>\n",
              "      </button>\n",
              "      \n",
              "  <style>\n",
              "    .colab-df-container {\n",
              "      display:flex;\n",
              "      flex-wrap:wrap;\n",
              "      gap: 12px;\n",
              "    }\n",
              "\n",
              "    .colab-df-convert {\n",
              "      background-color: #E8F0FE;\n",
              "      border: none;\n",
              "      border-radius: 50%;\n",
              "      cursor: pointer;\n",
              "      display: none;\n",
              "      fill: #1967D2;\n",
              "      height: 32px;\n",
              "      padding: 0 0 0 0;\n",
              "      width: 32px;\n",
              "    }\n",
              "\n",
              "    .colab-df-convert:hover {\n",
              "      background-color: #E2EBFA;\n",
              "      box-shadow: 0px 1px 2px rgba(60, 64, 67, 0.3), 0px 1px 3px 1px rgba(60, 64, 67, 0.15);\n",
              "      fill: #174EA6;\n",
              "    }\n",
              "\n",
              "    [theme=dark] .colab-df-convert {\n",
              "      background-color: #3B4455;\n",
              "      fill: #D2E3FC;\n",
              "    }\n",
              "\n",
              "    [theme=dark] .colab-df-convert:hover {\n",
              "      background-color: #434B5C;\n",
              "      box-shadow: 0px 1px 3px 1px rgba(0, 0, 0, 0.15);\n",
              "      filter: drop-shadow(0px 1px 2px rgba(0, 0, 0, 0.3));\n",
              "      fill: #FFFFFF;\n",
              "    }\n",
              "  </style>\n",
              "\n",
              "      <script>\n",
              "        const buttonEl =\n",
              "          document.querySelector('#df-b6ef4726-3eec-4af3-b604-a3d98bcb2a36 button.colab-df-convert');\n",
              "        buttonEl.style.display =\n",
              "          google.colab.kernel.accessAllowed ? 'block' : 'none';\n",
              "\n",
              "        async function convertToInteractive(key) {\n",
              "          const element = document.querySelector('#df-b6ef4726-3eec-4af3-b604-a3d98bcb2a36');\n",
              "          const dataTable =\n",
              "            await google.colab.kernel.invokeFunction('convertToInteractive',\n",
              "                                                     [key], {});\n",
              "          if (!dataTable) return;\n",
              "\n",
              "          const docLinkHtml = 'Like what you see? Visit the ' +\n",
              "            '<a target=\"_blank\" href=https://colab.research.google.com/notebooks/data_table.ipynb>data table notebook</a>'\n",
              "            + ' to learn more about interactive tables.';\n",
              "          element.innerHTML = '';\n",
              "          dataTable['output_type'] = 'display_data';\n",
              "          await google.colab.output.renderOutput(dataTable, element);\n",
              "          const docLink = document.createElement('div');\n",
              "          docLink.innerHTML = docLinkHtml;\n",
              "          element.appendChild(docLink);\n",
              "        }\n",
              "      </script>\n",
              "    </div>\n",
              "  </div>\n",
              "  "
            ]
          },
          "metadata": {},
          "execution_count": 154
        }
      ]
    },
    {
      "cell_type": "code",
      "source": [
        "df.sort_values(by=['Churn'], ascending=False)"
      ],
      "metadata": {
        "id": "FgM4aB2sxuLZ",
        "colab": {
          "base_uri": "https://localhost:8080/",
          "height": 502
        },
        "outputId": "4a18308a-2570-4161-bbf3-23a9a9732ba3"
      },
      "execution_count": null,
      "outputs": [
        {
          "output_type": "execute_result",
          "data": {
            "text/plain": [
              "     State  Account length  Area code International plan Voice mail plan  \\\n",
              "1784    DE              51        415                Yes              No   \n",
              "588     OK             101        408                 No              No   \n",
              "546     WI              69        510                Yes              No   \n",
              "547     VT              95        510                Yes             Yes   \n",
              "550     AK             111        415                 No              No   \n",
              "...    ...             ...        ...                ...             ...   \n",
              "1181    MI              67        510                 No             Yes   \n",
              "1183    IN             154        510                 No             Yes   \n",
              "1184    ME              69        510                 No              No   \n",
              "1185    DC             123        415                 No              No   \n",
              "3332    TN              74        415                 No             Yes   \n",
              "\n",
              "      Number vmail messages  Total day minutes  Total day calls  \\\n",
              "1784                      0              153.6              108   \n",
              "588                       0               89.7              118   \n",
              "546                       0              279.8               90   \n",
              "547                      41              136.8               91   \n",
              "550                       0              172.8               58   \n",
              "...                     ...                ...              ...   \n",
              "1181                     35              245.4               89   \n",
              "1183                     32              192.3               82   \n",
              "1184                      0              194.2              122   \n",
              "1185                      0              211.0               92   \n",
              "3332                     25              234.4              113   \n",
              "\n",
              "      Total day charge  Total eve minutes  Total eve calls  Total eve charge  \\\n",
              "1784             26.11              232.9               85             19.80   \n",
              "588              15.25              260.1               79             22.11   \n",
              "546              47.57              248.7               91             21.14   \n",
              "547              23.26              200.8               61             17.07   \n",
              "550              29.38              183.1              108             15.56   \n",
              "...                ...                ...              ...               ...   \n",
              "1181             41.72              148.2              102             12.60   \n",
              "1183             32.69              165.3              134             14.05   \n",
              "1184             33.01              242.1               81             20.58   \n",
              "1185             35.87              217.0              102             18.45   \n",
              "3332             39.85              265.9               82             22.60   \n",
              "\n",
              "      Total night minutes  Total night calls  Total night charge  \\\n",
              "1784                214.2                 92                9.64   \n",
              "588                 170.1                 93                7.65   \n",
              "546                 171.0                118                7.69   \n",
              "547                 133.7                 67                6.02   \n",
              "550                 158.8                104                7.15   \n",
              "...                   ...                ...                 ...   \n",
              "1181                274.0                136               12.33   \n",
              "1183                205.0                 74                9.23   \n",
              "1184                215.8                 80                9.71   \n",
              "1185                214.8                104                9.67   \n",
              "3332                241.4                 77               10.86   \n",
              "\n",
              "      Total intl minutes  Total intl calls  Total intl charge  \\\n",
              "1784                14.1                 4               3.81   \n",
              "588                 13.5                11               3.65   \n",
              "546                  8.4                10               2.27   \n",
              "547                 10.3                 9               2.78   \n",
              "550                  7.9                 3               2.13   \n",
              "...                  ...               ...                ...   \n",
              "1181                 7.5                 6               2.03   \n",
              "1183                 9.0                 1               2.43   \n",
              "1184                 9.7                 3               2.62   \n",
              "1185                 9.8                 7               2.65   \n",
              "3332                13.7                 4               3.70   \n",
              "\n",
              "      Customer service calls  Churn  \n",
              "1784                       0   True  \n",
              "588                        5   True  \n",
              "546                        2   True  \n",
              "547                        5   True  \n",
              "550                        4   True  \n",
              "...                      ...    ...  \n",
              "1181                       1  False  \n",
              "1183                       2  False  \n",
              "1184                       2  False  \n",
              "1185                       3  False  \n",
              "3332                       0  False  \n",
              "\n",
              "[3333 rows x 20 columns]"
            ],
            "text/html": [
              "\n",
              "  <div id=\"df-0b42da88-6ee7-4a2c-911d-026d1b84adb8\">\n",
              "    <div class=\"colab-df-container\">\n",
              "      <div>\n",
              "<style scoped>\n",
              "    .dataframe tbody tr th:only-of-type {\n",
              "        vertical-align: middle;\n",
              "    }\n",
              "\n",
              "    .dataframe tbody tr th {\n",
              "        vertical-align: top;\n",
              "    }\n",
              "\n",
              "    .dataframe thead th {\n",
              "        text-align: right;\n",
              "    }\n",
              "</style>\n",
              "<table border=\"1\" class=\"dataframe\">\n",
              "  <thead>\n",
              "    <tr style=\"text-align: right;\">\n",
              "      <th></th>\n",
              "      <th>State</th>\n",
              "      <th>Account length</th>\n",
              "      <th>Area code</th>\n",
              "      <th>International plan</th>\n",
              "      <th>Voice mail plan</th>\n",
              "      <th>Number vmail messages</th>\n",
              "      <th>Total day minutes</th>\n",
              "      <th>Total day calls</th>\n",
              "      <th>Total day charge</th>\n",
              "      <th>Total eve minutes</th>\n",
              "      <th>Total eve calls</th>\n",
              "      <th>Total eve charge</th>\n",
              "      <th>Total night minutes</th>\n",
              "      <th>Total night calls</th>\n",
              "      <th>Total night charge</th>\n",
              "      <th>Total intl minutes</th>\n",
              "      <th>Total intl calls</th>\n",
              "      <th>Total intl charge</th>\n",
              "      <th>Customer service calls</th>\n",
              "      <th>Churn</th>\n",
              "    </tr>\n",
              "  </thead>\n",
              "  <tbody>\n",
              "    <tr>\n",
              "      <th>1784</th>\n",
              "      <td>DE</td>\n",
              "      <td>51</td>\n",
              "      <td>415</td>\n",
              "      <td>Yes</td>\n",
              "      <td>No</td>\n",
              "      <td>0</td>\n",
              "      <td>153.6</td>\n",
              "      <td>108</td>\n",
              "      <td>26.11</td>\n",
              "      <td>232.9</td>\n",
              "      <td>85</td>\n",
              "      <td>19.80</td>\n",
              "      <td>214.2</td>\n",
              "      <td>92</td>\n",
              "      <td>9.64</td>\n",
              "      <td>14.1</td>\n",
              "      <td>4</td>\n",
              "      <td>3.81</td>\n",
              "      <td>0</td>\n",
              "      <td>True</td>\n",
              "    </tr>\n",
              "    <tr>\n",
              "      <th>588</th>\n",
              "      <td>OK</td>\n",
              "      <td>101</td>\n",
              "      <td>408</td>\n",
              "      <td>No</td>\n",
              "      <td>No</td>\n",
              "      <td>0</td>\n",
              "      <td>89.7</td>\n",
              "      <td>118</td>\n",
              "      <td>15.25</td>\n",
              "      <td>260.1</td>\n",
              "      <td>79</td>\n",
              "      <td>22.11</td>\n",
              "      <td>170.1</td>\n",
              "      <td>93</td>\n",
              "      <td>7.65</td>\n",
              "      <td>13.5</td>\n",
              "      <td>11</td>\n",
              "      <td>3.65</td>\n",
              "      <td>5</td>\n",
              "      <td>True</td>\n",
              "    </tr>\n",
              "    <tr>\n",
              "      <th>546</th>\n",
              "      <td>WI</td>\n",
              "      <td>69</td>\n",
              "      <td>510</td>\n",
              "      <td>Yes</td>\n",
              "      <td>No</td>\n",
              "      <td>0</td>\n",
              "      <td>279.8</td>\n",
              "      <td>90</td>\n",
              "      <td>47.57</td>\n",
              "      <td>248.7</td>\n",
              "      <td>91</td>\n",
              "      <td>21.14</td>\n",
              "      <td>171.0</td>\n",
              "      <td>118</td>\n",
              "      <td>7.69</td>\n",
              "      <td>8.4</td>\n",
              "      <td>10</td>\n",
              "      <td>2.27</td>\n",
              "      <td>2</td>\n",
              "      <td>True</td>\n",
              "    </tr>\n",
              "    <tr>\n",
              "      <th>547</th>\n",
              "      <td>VT</td>\n",
              "      <td>95</td>\n",
              "      <td>510</td>\n",
              "      <td>Yes</td>\n",
              "      <td>Yes</td>\n",
              "      <td>41</td>\n",
              "      <td>136.8</td>\n",
              "      <td>91</td>\n",
              "      <td>23.26</td>\n",
              "      <td>200.8</td>\n",
              "      <td>61</td>\n",
              "      <td>17.07</td>\n",
              "      <td>133.7</td>\n",
              "      <td>67</td>\n",
              "      <td>6.02</td>\n",
              "      <td>10.3</td>\n",
              "      <td>9</td>\n",
              "      <td>2.78</td>\n",
              "      <td>5</td>\n",
              "      <td>True</td>\n",
              "    </tr>\n",
              "    <tr>\n",
              "      <th>550</th>\n",
              "      <td>AK</td>\n",
              "      <td>111</td>\n",
              "      <td>415</td>\n",
              "      <td>No</td>\n",
              "      <td>No</td>\n",
              "      <td>0</td>\n",
              "      <td>172.8</td>\n",
              "      <td>58</td>\n",
              "      <td>29.38</td>\n",
              "      <td>183.1</td>\n",
              "      <td>108</td>\n",
              "      <td>15.56</td>\n",
              "      <td>158.8</td>\n",
              "      <td>104</td>\n",
              "      <td>7.15</td>\n",
              "      <td>7.9</td>\n",
              "      <td>3</td>\n",
              "      <td>2.13</td>\n",
              "      <td>4</td>\n",
              "      <td>True</td>\n",
              "    </tr>\n",
              "    <tr>\n",
              "      <th>...</th>\n",
              "      <td>...</td>\n",
              "      <td>...</td>\n",
              "      <td>...</td>\n",
              "      <td>...</td>\n",
              "      <td>...</td>\n",
              "      <td>...</td>\n",
              "      <td>...</td>\n",
              "      <td>...</td>\n",
              "      <td>...</td>\n",
              "      <td>...</td>\n",
              "      <td>...</td>\n",
              "      <td>...</td>\n",
              "      <td>...</td>\n",
              "      <td>...</td>\n",
              "      <td>...</td>\n",
              "      <td>...</td>\n",
              "      <td>...</td>\n",
              "      <td>...</td>\n",
              "      <td>...</td>\n",
              "      <td>...</td>\n",
              "    </tr>\n",
              "    <tr>\n",
              "      <th>1181</th>\n",
              "      <td>MI</td>\n",
              "      <td>67</td>\n",
              "      <td>510</td>\n",
              "      <td>No</td>\n",
              "      <td>Yes</td>\n",
              "      <td>35</td>\n",
              "      <td>245.4</td>\n",
              "      <td>89</td>\n",
              "      <td>41.72</td>\n",
              "      <td>148.2</td>\n",
              "      <td>102</td>\n",
              "      <td>12.60</td>\n",
              "      <td>274.0</td>\n",
              "      <td>136</td>\n",
              "      <td>12.33</td>\n",
              "      <td>7.5</td>\n",
              "      <td>6</td>\n",
              "      <td>2.03</td>\n",
              "      <td>1</td>\n",
              "      <td>False</td>\n",
              "    </tr>\n",
              "    <tr>\n",
              "      <th>1183</th>\n",
              "      <td>IN</td>\n",
              "      <td>154</td>\n",
              "      <td>510</td>\n",
              "      <td>No</td>\n",
              "      <td>Yes</td>\n",
              "      <td>32</td>\n",
              "      <td>192.3</td>\n",
              "      <td>82</td>\n",
              "      <td>32.69</td>\n",
              "      <td>165.3</td>\n",
              "      <td>134</td>\n",
              "      <td>14.05</td>\n",
              "      <td>205.0</td>\n",
              "      <td>74</td>\n",
              "      <td>9.23</td>\n",
              "      <td>9.0</td>\n",
              "      <td>1</td>\n",
              "      <td>2.43</td>\n",
              "      <td>2</td>\n",
              "      <td>False</td>\n",
              "    </tr>\n",
              "    <tr>\n",
              "      <th>1184</th>\n",
              "      <td>ME</td>\n",
              "      <td>69</td>\n",
              "      <td>510</td>\n",
              "      <td>No</td>\n",
              "      <td>No</td>\n",
              "      <td>0</td>\n",
              "      <td>194.2</td>\n",
              "      <td>122</td>\n",
              "      <td>33.01</td>\n",
              "      <td>242.1</td>\n",
              "      <td>81</td>\n",
              "      <td>20.58</td>\n",
              "      <td>215.8</td>\n",
              "      <td>80</td>\n",
              "      <td>9.71</td>\n",
              "      <td>9.7</td>\n",
              "      <td>3</td>\n",
              "      <td>2.62</td>\n",
              "      <td>2</td>\n",
              "      <td>False</td>\n",
              "    </tr>\n",
              "    <tr>\n",
              "      <th>1185</th>\n",
              "      <td>DC</td>\n",
              "      <td>123</td>\n",
              "      <td>415</td>\n",
              "      <td>No</td>\n",
              "      <td>No</td>\n",
              "      <td>0</td>\n",
              "      <td>211.0</td>\n",
              "      <td>92</td>\n",
              "      <td>35.87</td>\n",
              "      <td>217.0</td>\n",
              "      <td>102</td>\n",
              "      <td>18.45</td>\n",
              "      <td>214.8</td>\n",
              "      <td>104</td>\n",
              "      <td>9.67</td>\n",
              "      <td>9.8</td>\n",
              "      <td>7</td>\n",
              "      <td>2.65</td>\n",
              "      <td>3</td>\n",
              "      <td>False</td>\n",
              "    </tr>\n",
              "    <tr>\n",
              "      <th>3332</th>\n",
              "      <td>TN</td>\n",
              "      <td>74</td>\n",
              "      <td>415</td>\n",
              "      <td>No</td>\n",
              "      <td>Yes</td>\n",
              "      <td>25</td>\n",
              "      <td>234.4</td>\n",
              "      <td>113</td>\n",
              "      <td>39.85</td>\n",
              "      <td>265.9</td>\n",
              "      <td>82</td>\n",
              "      <td>22.60</td>\n",
              "      <td>241.4</td>\n",
              "      <td>77</td>\n",
              "      <td>10.86</td>\n",
              "      <td>13.7</td>\n",
              "      <td>4</td>\n",
              "      <td>3.70</td>\n",
              "      <td>0</td>\n",
              "      <td>False</td>\n",
              "    </tr>\n",
              "  </tbody>\n",
              "</table>\n",
              "<p>3333 rows × 20 columns</p>\n",
              "</div>\n",
              "      <button class=\"colab-df-convert\" onclick=\"convertToInteractive('df-0b42da88-6ee7-4a2c-911d-026d1b84adb8')\"\n",
              "              title=\"Convert this dataframe to an interactive table.\"\n",
              "              style=\"display:none;\">\n",
              "        \n",
              "  <svg xmlns=\"http://www.w3.org/2000/svg\" height=\"24px\"viewBox=\"0 0 24 24\"\n",
              "       width=\"24px\">\n",
              "    <path d=\"M0 0h24v24H0V0z\" fill=\"none\"/>\n",
              "    <path d=\"M18.56 5.44l.94 2.06.94-2.06 2.06-.94-2.06-.94-.94-2.06-.94 2.06-2.06.94zm-11 1L8.5 8.5l.94-2.06 2.06-.94-2.06-.94L8.5 2.5l-.94 2.06-2.06.94zm10 10l.94 2.06.94-2.06 2.06-.94-2.06-.94-.94-2.06-.94 2.06-2.06.94z\"/><path d=\"M17.41 7.96l-1.37-1.37c-.4-.4-.92-.59-1.43-.59-.52 0-1.04.2-1.43.59L10.3 9.45l-7.72 7.72c-.78.78-.78 2.05 0 2.83L4 21.41c.39.39.9.59 1.41.59.51 0 1.02-.2 1.41-.59l7.78-7.78 2.81-2.81c.8-.78.8-2.07 0-2.86zM5.41 20L4 18.59l7.72-7.72 1.47 1.35L5.41 20z\"/>\n",
              "  </svg>\n",
              "      </button>\n",
              "      \n",
              "  <style>\n",
              "    .colab-df-container {\n",
              "      display:flex;\n",
              "      flex-wrap:wrap;\n",
              "      gap: 12px;\n",
              "    }\n",
              "\n",
              "    .colab-df-convert {\n",
              "      background-color: #E8F0FE;\n",
              "      border: none;\n",
              "      border-radius: 50%;\n",
              "      cursor: pointer;\n",
              "      display: none;\n",
              "      fill: #1967D2;\n",
              "      height: 32px;\n",
              "      padding: 0 0 0 0;\n",
              "      width: 32px;\n",
              "    }\n",
              "\n",
              "    .colab-df-convert:hover {\n",
              "      background-color: #E2EBFA;\n",
              "      box-shadow: 0px 1px 2px rgba(60, 64, 67, 0.3), 0px 1px 3px 1px rgba(60, 64, 67, 0.15);\n",
              "      fill: #174EA6;\n",
              "    }\n",
              "\n",
              "    [theme=dark] .colab-df-convert {\n",
              "      background-color: #3B4455;\n",
              "      fill: #D2E3FC;\n",
              "    }\n",
              "\n",
              "    [theme=dark] .colab-df-convert:hover {\n",
              "      background-color: #434B5C;\n",
              "      box-shadow: 0px 1px 3px 1px rgba(0, 0, 0, 0.15);\n",
              "      filter: drop-shadow(0px 1px 2px rgba(0, 0, 0, 0.3));\n",
              "      fill: #FFFFFF;\n",
              "    }\n",
              "  </style>\n",
              "\n",
              "      <script>\n",
              "        const buttonEl =\n",
              "          document.querySelector('#df-0b42da88-6ee7-4a2c-911d-026d1b84adb8 button.colab-df-convert');\n",
              "        buttonEl.style.display =\n",
              "          google.colab.kernel.accessAllowed ? 'block' : 'none';\n",
              "\n",
              "        async function convertToInteractive(key) {\n",
              "          const element = document.querySelector('#df-0b42da88-6ee7-4a2c-911d-026d1b84adb8');\n",
              "          const dataTable =\n",
              "            await google.colab.kernel.invokeFunction('convertToInteractive',\n",
              "                                                     [key], {});\n",
              "          if (!dataTable) return;\n",
              "\n",
              "          const docLinkHtml = 'Like what you see? Visit the ' +\n",
              "            '<a target=\"_blank\" href=https://colab.research.google.com/notebooks/data_table.ipynb>data table notebook</a>'\n",
              "            + ' to learn more about interactive tables.';\n",
              "          element.innerHTML = '';\n",
              "          dataTable['output_type'] = 'display_data';\n",
              "          await google.colab.output.renderOutput(dataTable, element);\n",
              "          const docLink = document.createElement('div');\n",
              "          docLink.innerHTML = docLinkHtml;\n",
              "          element.appendChild(docLink);\n",
              "        }\n",
              "      </script>\n",
              "    </div>\n",
              "  </div>\n",
              "  "
            ]
          },
          "metadata": {},
          "execution_count": 155
        }
      ]
    },
    {
      "cell_type": "markdown",
      "source": [
        "## Adding required columns for analysis"
      ],
      "metadata": {
        "id": "xwrB49nUDNJl"
      }
    },
    {
      "cell_type": "code",
      "source": [
        "df['total minutes domestic'] = df['Total day minutes']+df['Total eve minutes']+df['Total night minutes']"
      ],
      "metadata": {
        "id": "ULAGKEoDuEex"
      },
      "execution_count": null,
      "outputs": []
    },
    {
      "cell_type": "code",
      "source": [
        "df['total charge domestic'] = df['Total day charge']+df['Total eve charge']+df['Total night charge']"
      ],
      "metadata": {
        "id": "AFW-HhrjEiJE"
      },
      "execution_count": null,
      "outputs": []
    },
    {
      "cell_type": "code",
      "source": [
        "df['avg domestic charge per min'] = df['total charge domestic']/df['total minutes domestic']"
      ],
      "metadata": {
        "id": "GfAou7sUES_4"
      },
      "execution_count": null,
      "outputs": []
    },
    {
      "cell_type": "code",
      "source": [
        "df['day charge per min'] = df['Total day charge']/df['Total day minutes']"
      ],
      "metadata": {
        "id": "dxL_M60FuEaK"
      },
      "execution_count": null,
      "outputs": []
    },
    {
      "cell_type": "code",
      "source": [
        "df['eve charge per min'] = df['Total eve charge']/df['Total eve minutes']"
      ],
      "metadata": {
        "id": "V-rFDOgEuEYV"
      },
      "execution_count": null,
      "outputs": []
    },
    {
      "cell_type": "code",
      "source": [
        "df['night charge per min'] = df['Total night charge']/df['Total night minutes']"
      ],
      "metadata": {
        "id": "O-DFy5RKuEWc"
      },
      "execution_count": null,
      "outputs": []
    },
    {
      "cell_type": "code",
      "source": [
        "df['intl charge per min'] = df['Total intl charge']/df['Total intl minutes']"
      ],
      "metadata": {
        "id": "DQfYmQf3uETl"
      },
      "execution_count": null,
      "outputs": []
    },
    {
      "cell_type": "code",
      "source": [
        "df"
      ],
      "metadata": {
        "colab": {
          "base_uri": "https://localhost:8080/",
          "height": 520
        },
        "id": "aGa7uDrNuERa",
        "outputId": "0480c775-7ac6-416a-eeb6-a6947421cd4f"
      },
      "execution_count": null,
      "outputs": [
        {
          "output_type": "execute_result",
          "data": {
            "text/plain": [
              "     State  Account length  Area code International plan Voice mail plan  \\\n",
              "0       KS             128        415                 No             Yes   \n",
              "1       OH             107        415                 No             Yes   \n",
              "2       NJ             137        415                 No              No   \n",
              "3       OH              84        408                Yes              No   \n",
              "4       OK              75        415                Yes              No   \n",
              "...    ...             ...        ...                ...             ...   \n",
              "3328    AZ             192        415                 No             Yes   \n",
              "3329    WV              68        415                 No              No   \n",
              "3330    RI              28        510                 No              No   \n",
              "3331    CT             184        510                Yes              No   \n",
              "3332    TN              74        415                 No             Yes   \n",
              "\n",
              "      Number vmail messages  Total day minutes  Total day calls  \\\n",
              "0                        25              265.1              110   \n",
              "1                        26              161.6              123   \n",
              "2                         0              243.4              114   \n",
              "3                         0              299.4               71   \n",
              "4                         0              166.7              113   \n",
              "...                     ...                ...              ...   \n",
              "3328                     36              156.2               77   \n",
              "3329                      0              231.1               57   \n",
              "3330                      0              180.8              109   \n",
              "3331                      0              213.8              105   \n",
              "3332                     25              234.4              113   \n",
              "\n",
              "      Total day charge  Total eve minutes  ...  Total intl charge  \\\n",
              "0                45.07              197.4  ...               2.70   \n",
              "1                27.47              195.5  ...               3.70   \n",
              "2                41.38              121.2  ...               3.29   \n",
              "3                50.90               61.9  ...               1.78   \n",
              "4                28.34              148.3  ...               2.73   \n",
              "...                ...                ...  ...                ...   \n",
              "3328             26.55              215.5  ...               2.67   \n",
              "3329             39.29              153.4  ...               2.59   \n",
              "3330             30.74              288.8  ...               3.81   \n",
              "3331             36.35              159.6  ...               1.35   \n",
              "3332             39.85              265.9  ...               3.70   \n",
              "\n",
              "      Customer service calls  Churn  total minutes domestic  \\\n",
              "0                          1  False                   707.2   \n",
              "1                          1  False                   611.5   \n",
              "2                          0  False                   527.2   \n",
              "3                          2  False                   558.2   \n",
              "4                          3  False                   501.9   \n",
              "...                      ...    ...                     ...   \n",
              "3328                       2  False                   650.8   \n",
              "3329                       3  False                   575.8   \n",
              "3330                       2  False                   661.5   \n",
              "3331                       2  False                   512.6   \n",
              "3332                       0  False                   741.7   \n",
              "\n",
              "      total charge domestic  avg domestic charge per min  day charge per min  \\\n",
              "0                     72.86                     0.103026            0.170011   \n",
              "1                     55.54                     0.090826            0.169988   \n",
              "2                     59.00                     0.111912            0.170008   \n",
              "3                     65.02                     0.116482            0.170007   \n",
              "4                     49.36                     0.098346            0.170006   \n",
              "...                     ...                          ...                 ...   \n",
              "3328                  57.43                     0.088245            0.169974   \n",
              "3329                  60.94                     0.105835            0.170013   \n",
              "3330                  63.93                     0.096644            0.170022   \n",
              "3331                  56.18                     0.109598            0.170019   \n",
              "3332                  73.31                     0.098841            0.170009   \n",
              "\n",
              "      eve charge per min  night charge per min  intl charge per min  \n",
              "0               0.085005              0.044994             0.270000  \n",
              "1               0.085013              0.045008             0.270073  \n",
              "2               0.084983              0.045018             0.269672  \n",
              "3               0.084976              0.044997             0.269697  \n",
              "4               0.085030              0.044997             0.270297  \n",
              "...                  ...                   ...                  ...  \n",
              "3328            0.085012              0.045002             0.269697  \n",
              "3329            0.085007              0.045008             0.269792  \n",
              "3330            0.085007              0.045023             0.270213  \n",
              "3331            0.085025              0.044971             0.270000  \n",
              "3332            0.084994              0.044988             0.270073  \n",
              "\n",
              "[3333 rows x 27 columns]"
            ],
            "text/html": [
              "\n",
              "  <div id=\"df-f9dae871-d78e-419f-a049-ccfe26bf7abc\">\n",
              "    <div class=\"colab-df-container\">\n",
              "      <div>\n",
              "<style scoped>\n",
              "    .dataframe tbody tr th:only-of-type {\n",
              "        vertical-align: middle;\n",
              "    }\n",
              "\n",
              "    .dataframe tbody tr th {\n",
              "        vertical-align: top;\n",
              "    }\n",
              "\n",
              "    .dataframe thead th {\n",
              "        text-align: right;\n",
              "    }\n",
              "</style>\n",
              "<table border=\"1\" class=\"dataframe\">\n",
              "  <thead>\n",
              "    <tr style=\"text-align: right;\">\n",
              "      <th></th>\n",
              "      <th>State</th>\n",
              "      <th>Account length</th>\n",
              "      <th>Area code</th>\n",
              "      <th>International plan</th>\n",
              "      <th>Voice mail plan</th>\n",
              "      <th>Number vmail messages</th>\n",
              "      <th>Total day minutes</th>\n",
              "      <th>Total day calls</th>\n",
              "      <th>Total day charge</th>\n",
              "      <th>Total eve minutes</th>\n",
              "      <th>...</th>\n",
              "      <th>Total intl charge</th>\n",
              "      <th>Customer service calls</th>\n",
              "      <th>Churn</th>\n",
              "      <th>total minutes domestic</th>\n",
              "      <th>total charge domestic</th>\n",
              "      <th>avg domestic charge per min</th>\n",
              "      <th>day charge per min</th>\n",
              "      <th>eve charge per min</th>\n",
              "      <th>night charge per min</th>\n",
              "      <th>intl charge per min</th>\n",
              "    </tr>\n",
              "  </thead>\n",
              "  <tbody>\n",
              "    <tr>\n",
              "      <th>0</th>\n",
              "      <td>KS</td>\n",
              "      <td>128</td>\n",
              "      <td>415</td>\n",
              "      <td>No</td>\n",
              "      <td>Yes</td>\n",
              "      <td>25</td>\n",
              "      <td>265.1</td>\n",
              "      <td>110</td>\n",
              "      <td>45.07</td>\n",
              "      <td>197.4</td>\n",
              "      <td>...</td>\n",
              "      <td>2.70</td>\n",
              "      <td>1</td>\n",
              "      <td>False</td>\n",
              "      <td>707.2</td>\n",
              "      <td>72.86</td>\n",
              "      <td>0.103026</td>\n",
              "      <td>0.170011</td>\n",
              "      <td>0.085005</td>\n",
              "      <td>0.044994</td>\n",
              "      <td>0.270000</td>\n",
              "    </tr>\n",
              "    <tr>\n",
              "      <th>1</th>\n",
              "      <td>OH</td>\n",
              "      <td>107</td>\n",
              "      <td>415</td>\n",
              "      <td>No</td>\n",
              "      <td>Yes</td>\n",
              "      <td>26</td>\n",
              "      <td>161.6</td>\n",
              "      <td>123</td>\n",
              "      <td>27.47</td>\n",
              "      <td>195.5</td>\n",
              "      <td>...</td>\n",
              "      <td>3.70</td>\n",
              "      <td>1</td>\n",
              "      <td>False</td>\n",
              "      <td>611.5</td>\n",
              "      <td>55.54</td>\n",
              "      <td>0.090826</td>\n",
              "      <td>0.169988</td>\n",
              "      <td>0.085013</td>\n",
              "      <td>0.045008</td>\n",
              "      <td>0.270073</td>\n",
              "    </tr>\n",
              "    <tr>\n",
              "      <th>2</th>\n",
              "      <td>NJ</td>\n",
              "      <td>137</td>\n",
              "      <td>415</td>\n",
              "      <td>No</td>\n",
              "      <td>No</td>\n",
              "      <td>0</td>\n",
              "      <td>243.4</td>\n",
              "      <td>114</td>\n",
              "      <td>41.38</td>\n",
              "      <td>121.2</td>\n",
              "      <td>...</td>\n",
              "      <td>3.29</td>\n",
              "      <td>0</td>\n",
              "      <td>False</td>\n",
              "      <td>527.2</td>\n",
              "      <td>59.00</td>\n",
              "      <td>0.111912</td>\n",
              "      <td>0.170008</td>\n",
              "      <td>0.084983</td>\n",
              "      <td>0.045018</td>\n",
              "      <td>0.269672</td>\n",
              "    </tr>\n",
              "    <tr>\n",
              "      <th>3</th>\n",
              "      <td>OH</td>\n",
              "      <td>84</td>\n",
              "      <td>408</td>\n",
              "      <td>Yes</td>\n",
              "      <td>No</td>\n",
              "      <td>0</td>\n",
              "      <td>299.4</td>\n",
              "      <td>71</td>\n",
              "      <td>50.90</td>\n",
              "      <td>61.9</td>\n",
              "      <td>...</td>\n",
              "      <td>1.78</td>\n",
              "      <td>2</td>\n",
              "      <td>False</td>\n",
              "      <td>558.2</td>\n",
              "      <td>65.02</td>\n",
              "      <td>0.116482</td>\n",
              "      <td>0.170007</td>\n",
              "      <td>0.084976</td>\n",
              "      <td>0.044997</td>\n",
              "      <td>0.269697</td>\n",
              "    </tr>\n",
              "    <tr>\n",
              "      <th>4</th>\n",
              "      <td>OK</td>\n",
              "      <td>75</td>\n",
              "      <td>415</td>\n",
              "      <td>Yes</td>\n",
              "      <td>No</td>\n",
              "      <td>0</td>\n",
              "      <td>166.7</td>\n",
              "      <td>113</td>\n",
              "      <td>28.34</td>\n",
              "      <td>148.3</td>\n",
              "      <td>...</td>\n",
              "      <td>2.73</td>\n",
              "      <td>3</td>\n",
              "      <td>False</td>\n",
              "      <td>501.9</td>\n",
              "      <td>49.36</td>\n",
              "      <td>0.098346</td>\n",
              "      <td>0.170006</td>\n",
              "      <td>0.085030</td>\n",
              "      <td>0.044997</td>\n",
              "      <td>0.270297</td>\n",
              "    </tr>\n",
              "    <tr>\n",
              "      <th>...</th>\n",
              "      <td>...</td>\n",
              "      <td>...</td>\n",
              "      <td>...</td>\n",
              "      <td>...</td>\n",
              "      <td>...</td>\n",
              "      <td>...</td>\n",
              "      <td>...</td>\n",
              "      <td>...</td>\n",
              "      <td>...</td>\n",
              "      <td>...</td>\n",
              "      <td>...</td>\n",
              "      <td>...</td>\n",
              "      <td>...</td>\n",
              "      <td>...</td>\n",
              "      <td>...</td>\n",
              "      <td>...</td>\n",
              "      <td>...</td>\n",
              "      <td>...</td>\n",
              "      <td>...</td>\n",
              "      <td>...</td>\n",
              "      <td>...</td>\n",
              "    </tr>\n",
              "    <tr>\n",
              "      <th>3328</th>\n",
              "      <td>AZ</td>\n",
              "      <td>192</td>\n",
              "      <td>415</td>\n",
              "      <td>No</td>\n",
              "      <td>Yes</td>\n",
              "      <td>36</td>\n",
              "      <td>156.2</td>\n",
              "      <td>77</td>\n",
              "      <td>26.55</td>\n",
              "      <td>215.5</td>\n",
              "      <td>...</td>\n",
              "      <td>2.67</td>\n",
              "      <td>2</td>\n",
              "      <td>False</td>\n",
              "      <td>650.8</td>\n",
              "      <td>57.43</td>\n",
              "      <td>0.088245</td>\n",
              "      <td>0.169974</td>\n",
              "      <td>0.085012</td>\n",
              "      <td>0.045002</td>\n",
              "      <td>0.269697</td>\n",
              "    </tr>\n",
              "    <tr>\n",
              "      <th>3329</th>\n",
              "      <td>WV</td>\n",
              "      <td>68</td>\n",
              "      <td>415</td>\n",
              "      <td>No</td>\n",
              "      <td>No</td>\n",
              "      <td>0</td>\n",
              "      <td>231.1</td>\n",
              "      <td>57</td>\n",
              "      <td>39.29</td>\n",
              "      <td>153.4</td>\n",
              "      <td>...</td>\n",
              "      <td>2.59</td>\n",
              "      <td>3</td>\n",
              "      <td>False</td>\n",
              "      <td>575.8</td>\n",
              "      <td>60.94</td>\n",
              "      <td>0.105835</td>\n",
              "      <td>0.170013</td>\n",
              "      <td>0.085007</td>\n",
              "      <td>0.045008</td>\n",
              "      <td>0.269792</td>\n",
              "    </tr>\n",
              "    <tr>\n",
              "      <th>3330</th>\n",
              "      <td>RI</td>\n",
              "      <td>28</td>\n",
              "      <td>510</td>\n",
              "      <td>No</td>\n",
              "      <td>No</td>\n",
              "      <td>0</td>\n",
              "      <td>180.8</td>\n",
              "      <td>109</td>\n",
              "      <td>30.74</td>\n",
              "      <td>288.8</td>\n",
              "      <td>...</td>\n",
              "      <td>3.81</td>\n",
              "      <td>2</td>\n",
              "      <td>False</td>\n",
              "      <td>661.5</td>\n",
              "      <td>63.93</td>\n",
              "      <td>0.096644</td>\n",
              "      <td>0.170022</td>\n",
              "      <td>0.085007</td>\n",
              "      <td>0.045023</td>\n",
              "      <td>0.270213</td>\n",
              "    </tr>\n",
              "    <tr>\n",
              "      <th>3331</th>\n",
              "      <td>CT</td>\n",
              "      <td>184</td>\n",
              "      <td>510</td>\n",
              "      <td>Yes</td>\n",
              "      <td>No</td>\n",
              "      <td>0</td>\n",
              "      <td>213.8</td>\n",
              "      <td>105</td>\n",
              "      <td>36.35</td>\n",
              "      <td>159.6</td>\n",
              "      <td>...</td>\n",
              "      <td>1.35</td>\n",
              "      <td>2</td>\n",
              "      <td>False</td>\n",
              "      <td>512.6</td>\n",
              "      <td>56.18</td>\n",
              "      <td>0.109598</td>\n",
              "      <td>0.170019</td>\n",
              "      <td>0.085025</td>\n",
              "      <td>0.044971</td>\n",
              "      <td>0.270000</td>\n",
              "    </tr>\n",
              "    <tr>\n",
              "      <th>3332</th>\n",
              "      <td>TN</td>\n",
              "      <td>74</td>\n",
              "      <td>415</td>\n",
              "      <td>No</td>\n",
              "      <td>Yes</td>\n",
              "      <td>25</td>\n",
              "      <td>234.4</td>\n",
              "      <td>113</td>\n",
              "      <td>39.85</td>\n",
              "      <td>265.9</td>\n",
              "      <td>...</td>\n",
              "      <td>3.70</td>\n",
              "      <td>0</td>\n",
              "      <td>False</td>\n",
              "      <td>741.7</td>\n",
              "      <td>73.31</td>\n",
              "      <td>0.098841</td>\n",
              "      <td>0.170009</td>\n",
              "      <td>0.084994</td>\n",
              "      <td>0.044988</td>\n",
              "      <td>0.270073</td>\n",
              "    </tr>\n",
              "  </tbody>\n",
              "</table>\n",
              "<p>3333 rows × 27 columns</p>\n",
              "</div>\n",
              "      <button class=\"colab-df-convert\" onclick=\"convertToInteractive('df-f9dae871-d78e-419f-a049-ccfe26bf7abc')\"\n",
              "              title=\"Convert this dataframe to an interactive table.\"\n",
              "              style=\"display:none;\">\n",
              "        \n",
              "  <svg xmlns=\"http://www.w3.org/2000/svg\" height=\"24px\"viewBox=\"0 0 24 24\"\n",
              "       width=\"24px\">\n",
              "    <path d=\"M0 0h24v24H0V0z\" fill=\"none\"/>\n",
              "    <path d=\"M18.56 5.44l.94 2.06.94-2.06 2.06-.94-2.06-.94-.94-2.06-.94 2.06-2.06.94zm-11 1L8.5 8.5l.94-2.06 2.06-.94-2.06-.94L8.5 2.5l-.94 2.06-2.06.94zm10 10l.94 2.06.94-2.06 2.06-.94-2.06-.94-.94-2.06-.94 2.06-2.06.94z\"/><path d=\"M17.41 7.96l-1.37-1.37c-.4-.4-.92-.59-1.43-.59-.52 0-1.04.2-1.43.59L10.3 9.45l-7.72 7.72c-.78.78-.78 2.05 0 2.83L4 21.41c.39.39.9.59 1.41.59.51 0 1.02-.2 1.41-.59l7.78-7.78 2.81-2.81c.8-.78.8-2.07 0-2.86zM5.41 20L4 18.59l7.72-7.72 1.47 1.35L5.41 20z\"/>\n",
              "  </svg>\n",
              "      </button>\n",
              "      \n",
              "  <style>\n",
              "    .colab-df-container {\n",
              "      display:flex;\n",
              "      flex-wrap:wrap;\n",
              "      gap: 12px;\n",
              "    }\n",
              "\n",
              "    .colab-df-convert {\n",
              "      background-color: #E8F0FE;\n",
              "      border: none;\n",
              "      border-radius: 50%;\n",
              "      cursor: pointer;\n",
              "      display: none;\n",
              "      fill: #1967D2;\n",
              "      height: 32px;\n",
              "      padding: 0 0 0 0;\n",
              "      width: 32px;\n",
              "    }\n",
              "\n",
              "    .colab-df-convert:hover {\n",
              "      background-color: #E2EBFA;\n",
              "      box-shadow: 0px 1px 2px rgba(60, 64, 67, 0.3), 0px 1px 3px 1px rgba(60, 64, 67, 0.15);\n",
              "      fill: #174EA6;\n",
              "    }\n",
              "\n",
              "    [theme=dark] .colab-df-convert {\n",
              "      background-color: #3B4455;\n",
              "      fill: #D2E3FC;\n",
              "    }\n",
              "\n",
              "    [theme=dark] .colab-df-convert:hover {\n",
              "      background-color: #434B5C;\n",
              "      box-shadow: 0px 1px 3px 1px rgba(0, 0, 0, 0.15);\n",
              "      filter: drop-shadow(0px 1px 2px rgba(0, 0, 0, 0.3));\n",
              "      fill: #FFFFFF;\n",
              "    }\n",
              "  </style>\n",
              "\n",
              "      <script>\n",
              "        const buttonEl =\n",
              "          document.querySelector('#df-f9dae871-d78e-419f-a049-ccfe26bf7abc button.colab-df-convert');\n",
              "        buttonEl.style.display =\n",
              "          google.colab.kernel.accessAllowed ? 'block' : 'none';\n",
              "\n",
              "        async function convertToInteractive(key) {\n",
              "          const element = document.querySelector('#df-f9dae871-d78e-419f-a049-ccfe26bf7abc');\n",
              "          const dataTable =\n",
              "            await google.colab.kernel.invokeFunction('convertToInteractive',\n",
              "                                                     [key], {});\n",
              "          if (!dataTable) return;\n",
              "\n",
              "          const docLinkHtml = 'Like what you see? Visit the ' +\n",
              "            '<a target=\"_blank\" href=https://colab.research.google.com/notebooks/data_table.ipynb>data table notebook</a>'\n",
              "            + ' to learn more about interactive tables.';\n",
              "          element.innerHTML = '';\n",
              "          dataTable['output_type'] = 'display_data';\n",
              "          await google.colab.output.renderOutput(dataTable, element);\n",
              "          const docLink = document.createElement('div');\n",
              "          docLink.innerHTML = docLinkHtml;\n",
              "          element.appendChild(docLink);\n",
              "        }\n",
              "      </script>\n",
              "    </div>\n",
              "  </div>\n",
              "  "
            ]
          },
          "metadata": {},
          "execution_count": 163
        }
      ]
    },
    {
      "cell_type": "markdown",
      "source": [
        "\n",
        "\n",
        "Removing column not required for analysis \n",
        "\n"
      ],
      "metadata": {
        "id": "_dyZItm7E8TV"
      }
    },
    {
      "cell_type": "code",
      "source": [
        "df.info()"
      ],
      "metadata": {
        "colab": {
          "base_uri": "https://localhost:8080/"
        },
        "id": "jseMGq-xEmne",
        "outputId": "4ac0a81c-a2df-4484-ae3e-d154069e34af"
      },
      "execution_count": null,
      "outputs": [
        {
          "output_type": "stream",
          "name": "stdout",
          "text": [
            "<class 'pandas.core.frame.DataFrame'>\n",
            "RangeIndex: 3333 entries, 0 to 3332\n",
            "Data columns (total 27 columns):\n",
            " #   Column                       Non-Null Count  Dtype  \n",
            "---  ------                       --------------  -----  \n",
            " 0   State                        3333 non-null   object \n",
            " 1   Account length               3333 non-null   int64  \n",
            " 2   Area code                    3333 non-null   int64  \n",
            " 3   International plan           3333 non-null   object \n",
            " 4   Voice mail plan              3333 non-null   object \n",
            " 5   Number vmail messages        3333 non-null   int64  \n",
            " 6   Total day minutes            3333 non-null   float64\n",
            " 7   Total day calls              3333 non-null   int64  \n",
            " 8   Total day charge             3333 non-null   float64\n",
            " 9   Total eve minutes            3333 non-null   float64\n",
            " 10  Total eve calls              3333 non-null   int64  \n",
            " 11  Total eve charge             3333 non-null   float64\n",
            " 12  Total night minutes          3333 non-null   float64\n",
            " 13  Total night calls            3333 non-null   int64  \n",
            " 14  Total night charge           3333 non-null   float64\n",
            " 15  Total intl minutes           3333 non-null   float64\n",
            " 16  Total intl calls             3333 non-null   int64  \n",
            " 17  Total intl charge            3333 non-null   float64\n",
            " 18  Customer service calls       3333 non-null   int64  \n",
            " 19  Churn                        3333 non-null   bool   \n",
            " 20  total minutes domestic       3333 non-null   float64\n",
            " 21  total charge domestic        3333 non-null   float64\n",
            " 22  avg domestic charge per min  3333 non-null   float64\n",
            " 23  day charge per min           3331 non-null   float64\n",
            " 24  eve charge per min           3332 non-null   float64\n",
            " 25  night charge per min         3333 non-null   float64\n",
            " 26  intl charge per min          3315 non-null   float64\n",
            "dtypes: bool(1), float64(15), int64(8), object(3)\n",
            "memory usage: 680.4+ KB\n"
          ]
        }
      ]
    },
    {
      "cell_type": "markdown",
      "source": [
        "Grouping by area code"
      ],
      "metadata": {
        "id": "0xTf0nEJFdmc"
      }
    },
    {
      "cell_type": "code",
      "source": [
        "df.groupby('Area code').size().sort_values(ascending=False)"
      ],
      "metadata": {
        "colab": {
          "base_uri": "https://localhost:8080/"
        },
        "id": "xZ3wWQy5uEPz",
        "outputId": "20740b54-c0e7-421a-f1ae-8ba7b8046069"
      },
      "execution_count": null,
      "outputs": [
        {
          "output_type": "execute_result",
          "data": {
            "text/plain": [
              "Area code\n",
              "415    1655\n",
              "510     840\n",
              "408     838\n",
              "dtype: int64"
            ]
          },
          "metadata": {},
          "execution_count": 165
        }
      ]
    },
    {
      "cell_type": "markdown",
      "source": [
        "Graph for grouping by area code"
      ],
      "metadata": {
        "id": "wyqi4wt4FgEP"
      }
    },
    {
      "cell_type": "code",
      "source": [
        "df.groupby('Area code').size().sort_values(ascending=False).plot(kind='bar',title='No. of Customer by Area Code')"
      ],
      "metadata": {
        "colab": {
          "base_uri": "https://localhost:8080/",
          "height": 326
        },
        "id": "qJR00S5GFWnW",
        "outputId": "38f5b911-36f5-4938-c152-b555cf632278"
      },
      "execution_count": null,
      "outputs": [
        {
          "output_type": "execute_result",
          "data": {
            "text/plain": [
              "<matplotlib.axes._subplots.AxesSubplot at 0x7fde1a68e210>"
            ]
          },
          "metadata": {},
          "execution_count": 204
        },
        {
          "output_type": "display_data",
          "data": {
            "text/plain": [
              "<Figure size 432x288 with 1 Axes>"
            ],
            "image/png": "[encoded data removed]"
          },
          "metadata": {}
        }
      ]
    },
    {
      "cell_type": "markdown",
      "source": [
        "The maximum number of customers are from area code 415 i.e. close to 1600. Other two area codes, namely 510 & 408 have only roughly 50 % of customers are in area 415."
      ],
      "metadata": {
        "id": "V7yBCeRbfRag"
      }
    },
    {
      "cell_type": "markdown",
      "source": [
        "Grouping by subscription of international plans"
      ],
      "metadata": {
        "id": "awx2XUbBF7FU"
      }
    },
    {
      "cell_type": "code",
      "source": [],
      "metadata": {
        "id": "OeDftayLfQC3"
      },
      "execution_count": null,
      "outputs": []
    },
    {
      "cell_type": "code",
      "source": [
        "df.groupby('International plan').size()"
      ],
      "metadata": {
        "colab": {
          "base_uri": "https://localhost:8080/"
        },
        "id": "uNwo3X6xFpAp",
        "outputId": "b7d5de5c-2c9a-46c5-fa04-a73597399d96"
      },
      "execution_count": null,
      "outputs": [
        {
          "output_type": "execute_result",
          "data": {
            "text/plain": [
              "International plan\n",
              "No     3010\n",
              "Yes     323\n",
              "dtype: int64"
            ]
          },
          "metadata": {},
          "execution_count": 167
        }
      ]
    },
    {
      "cell_type": "markdown",
      "source": [
        "Plotting graph for internnational plan"
      ],
      "metadata": {
        "id": "lumqWO5-GC1d"
      }
    },
    {
      "cell_type": "code",
      "source": [
        "df.groupby('International plan').size().plot(kind='bar',title='Int Plan Holders')"
      ],
      "metadata": {
        "colab": {
          "base_uri": "https://localhost:8080/",
          "height": 323
        },
        "id": "sIGFlGQAFo8-",
        "outputId": "0bfcc4c4-1171-4641-a9fe-30e2bae58e18"
      },
      "execution_count": null,
      "outputs": [
        {
          "output_type": "execute_result",
          "data": {
            "text/plain": [
              "<matplotlib.axes._subplots.AxesSubplot at 0x7fde1af31750>"
            ]
          },
          "metadata": {},
          "execution_count": 205
        },
        {
          "output_type": "display_data",
          "data": {
            "text/plain": [
              "<Figure size 432x288 with 1 Axes>"
            ],
            "image/png": "[encoded data removed]"
          },
          "metadata": {}
        }
      ]
    },
    {
      "cell_type": "markdown",
      "source": [
        "## As from the data above it is clear that only close to 10% of total customers, i.e., 323 have an international plan. "
      ],
      "metadata": {
        "id": "cT6fSQpJft9N"
      }
    },
    {
      "cell_type": "code",
      "source": [
        "int_group = df.groupby('International plan')\n",
        "print(int_group.get_group('Yes'))"
      ],
      "metadata": {
        "colab": {
          "base_uri": "https://localhost:8080/"
        },
        "id": "2190eSNwIJCM",
        "outputId": "38a010cd-e531-47a1-b421-a990c26e0c2b"
      },
      "execution_count": null,
      "outputs": [
        {
          "output_type": "stream",
          "name": "stdout",
          "text": [
            "     State  Account length  Area code International plan Voice mail plan  \\\n",
            "3       OH              84        408                Yes              No   \n",
            "4       OK              75        415                Yes              No   \n",
            "5       AL             118        510                Yes              No   \n",
            "7       MO             147        415                Yes              No   \n",
            "9       WV             141        415                Yes             Yes   \n",
            "...    ...             ...        ...                ...             ...   \n",
            "3304    IL              71        510                Yes              No   \n",
            "3309    VT             100        408                Yes              No   \n",
            "3317    SD             163        415                Yes              No   \n",
            "3320    GA             122        510                Yes              No   \n",
            "3331    CT             184        510                Yes              No   \n",
            "\n",
            "      Number vmail messages  Total day minutes  Total day calls  \\\n",
            "3                         0              299.4               71   \n",
            "4                         0              166.7              113   \n",
            "5                         0              223.4               98   \n",
            "7                         0              157.0               79   \n",
            "9                        37              258.6               84   \n",
            "...                     ...                ...              ...   \n",
            "3304                      0              186.1              114   \n",
            "3309                      0              219.4              112   \n",
            "3317                      0              197.2               90   \n",
            "3320                      0              140.0              101   \n",
            "3331                      0              213.8              105   \n",
            "\n",
            "      Total day charge  Total eve minutes  ...  Total intl charge  \\\n",
            "3                50.90               61.9  ...               1.78   \n",
            "4                28.34              148.3  ...               2.73   \n",
            "5                37.98              220.6  ...               1.70   \n",
            "7                26.69              103.1  ...               1.92   \n",
            "9                43.96              222.0  ...               3.02   \n",
            "...                ...                ...  ...                ...   \n",
            "3304             31.64              198.6  ...               3.73   \n",
            "3309             37.30              225.7  ...               3.24   \n",
            "3317             33.52              188.5  ...               2.11   \n",
            "3320             23.80              196.4  ...               2.62   \n",
            "3331             36.35              159.6  ...               1.35   \n",
            "\n",
            "      Customer service calls  Churn  total minutes domestic  \\\n",
            "3                          2  False                   558.2   \n",
            "4                          3  False                   501.9   \n",
            "5                          0  False                   647.9   \n",
            "7                          0  False                   471.9   \n",
            "9                          0  False                   807.0   \n",
            "...                      ...    ...                     ...   \n",
            "3304                       4   True                   591.2   \n",
            "3309                       4  False                   700.4   \n",
            "3317                       1  False                   596.8   \n",
            "3320                       4   True                   456.5   \n",
            "3331                       2  False                   512.6   \n",
            "\n",
            "      total charge domestic  avg domestic charge per min  day charge per min  \\\n",
            "3                     65.02                     0.116482            0.170007   \n",
            "4                     49.36                     0.098346            0.170006   \n",
            "5                     65.91                     0.101729            0.170009   \n",
            "7                     44.98                     0.095317            0.170000   \n",
            "9                     77.52                     0.096059            0.169992   \n",
            "...                     ...                          ...                 ...   \n",
            "3304                  57.81                     0.097784            0.170016   \n",
            "3309                  67.97                     0.097045            0.170009   \n",
            "3317                  59.04                     0.098928            0.169980   \n",
            "3320                  45.89                     0.100526            0.170000   \n",
            "3331                  56.18                     0.109598            0.170019   \n",
            "\n",
            "      eve charge per min  night charge per min  intl charge per min  \n",
            "3               0.084976              0.044997             0.269697  \n",
            "4               0.085030              0.044997             0.270297  \n",
            "5               0.084995              0.045022             0.269841  \n",
            "7               0.084966              0.044995             0.270423  \n",
            "9               0.085000              0.045006             0.269643  \n",
            "...                  ...                   ...                  ...  \n",
            "3304            0.084995              0.044988             0.270290  \n",
            "3309            0.084980              0.045006             0.270000  \n",
            "3317            0.084987              0.045002             0.270513  \n",
            "3320            0.084980              0.044963             0.270103  \n",
            "3331            0.085025              0.044971             0.270000  \n",
            "\n",
            "[323 rows x 27 columns]\n"
          ]
        }
      ]
    },
    {
      "cell_type": "code",
      "source": [
        "print(int_group.get_group('No'))"
      ],
      "metadata": {
        "colab": {
          "base_uri": "https://localhost:8080/"
        },
        "id": "POUAb_RkIwTA",
        "outputId": "c6340bf0-7613-4f34-dc32-93ad9cd08c01"
      },
      "execution_count": null,
      "outputs": [
        {
          "output_type": "stream",
          "name": "stdout",
          "text": [
            "     State  Account length  Area code International plan Voice mail plan  \\\n",
            "0       KS             128        415                 No             Yes   \n",
            "1       OH             107        415                 No             Yes   \n",
            "2       NJ             137        415                 No              No   \n",
            "6       MA             121        510                 No             Yes   \n",
            "8       LA             117        408                 No              No   \n",
            "...    ...             ...        ...                ...             ...   \n",
            "3327    SC              79        415                 No              No   \n",
            "3328    AZ             192        415                 No             Yes   \n",
            "3329    WV              68        415                 No              No   \n",
            "3330    RI              28        510                 No              No   \n",
            "3332    TN              74        415                 No             Yes   \n",
            "\n",
            "      Number vmail messages  Total day minutes  Total day calls  \\\n",
            "0                        25              265.1              110   \n",
            "1                        26              161.6              123   \n",
            "2                         0              243.4              114   \n",
            "6                        24              218.2               88   \n",
            "8                         0              184.5               97   \n",
            "...                     ...                ...              ...   \n",
            "3327                      0              134.7               98   \n",
            "3328                     36              156.2               77   \n",
            "3329                      0              231.1               57   \n",
            "3330                      0              180.8              109   \n",
            "3332                     25              234.4              113   \n",
            "\n",
            "      Total day charge  Total eve minutes  ...  Total intl charge  \\\n",
            "0                45.07              197.4  ...               2.70   \n",
            "1                27.47              195.5  ...               3.70   \n",
            "2                41.38              121.2  ...               3.29   \n",
            "6                37.09              348.5  ...               2.03   \n",
            "8                31.37              351.6  ...               2.35   \n",
            "...                ...                ...  ...                ...   \n",
            "3327             22.90              189.7  ...               3.19   \n",
            "3328             26.55              215.5  ...               2.67   \n",
            "3329             39.29              153.4  ...               2.59   \n",
            "3330             30.74              288.8  ...               3.81   \n",
            "3332             39.85              265.9  ...               3.70   \n",
            "\n",
            "      Customer service calls  Churn  total minutes domestic  \\\n",
            "0                          1  False                   707.2   \n",
            "1                          1  False                   611.5   \n",
            "2                          0  False                   527.2   \n",
            "6                          3  False                   779.3   \n",
            "8                          1  False                   751.9   \n",
            "...                      ...    ...                     ...   \n",
            "3327                       2  False                   545.8   \n",
            "3328                       2  False                   650.8   \n",
            "3329                       3  False                   575.8   \n",
            "3330                       2  False                   661.5   \n",
            "3332                       0  False                   741.7   \n",
            "\n",
            "      total charge domestic  avg domestic charge per min  day charge per min  \\\n",
            "0                     72.86                     0.103026            0.170011   \n",
            "1                     55.54                     0.090826            0.169988   \n",
            "2                     59.00                     0.111912            0.170008   \n",
            "6                     76.28                     0.097883            0.169982   \n",
            "8                     70.97                     0.094388            0.170027   \n",
            "...                     ...                          ...                 ...   \n",
            "3327                  48.98                     0.089740            0.170007   \n",
            "3328                  57.43                     0.088245            0.169974   \n",
            "3329                  60.94                     0.105835            0.170013   \n",
            "3330                  63.93                     0.096644            0.170022   \n",
            "3332                  73.31                     0.098841            0.170009   \n",
            "\n",
            "      eve charge per min  night charge per min  intl charge per min  \n",
            "0               0.085005              0.044994             0.270000  \n",
            "1               0.085013              0.045008             0.270073  \n",
            "2               0.084983              0.045018             0.269672  \n",
            "6               0.084993              0.045014             0.270667  \n",
            "8               0.085011              0.044995             0.270115  \n",
            "...                  ...                   ...                  ...  \n",
            "3327            0.084976              0.044986             0.270339  \n",
            "3328            0.085012              0.045002             0.269697  \n",
            "3329            0.085007              0.045008             0.269792  \n",
            "3330            0.085007              0.045023             0.270213  \n",
            "3332            0.084994              0.044988             0.270073  \n",
            "\n",
            "[3010 rows x 27 columns]\n"
          ]
        }
      ]
    },
    {
      "cell_type": "code",
      "source": [
        "int_group.sum()"
      ],
      "metadata": {
        "colab": {
          "base_uri": "https://localhost:8080/",
          "height": 306
        },
        "id": "J2bIwXAzIvpw",
        "outputId": "cbcee6b8-b6cf-4bf9-eb4a-5dc485f0d453"
      },
      "execution_count": null,
      "outputs": [
        {
          "output_type": "execute_result",
          "data": {
            "text/plain": [
              "                    Account length  Area code  Number vmail messages  \\\n",
              "International plan                                                     \n",
              "No                          303234    1313891                  24260   \n",
              "Yes                          33615     143238                   2734   \n",
              "\n",
              "                    Total day minutes  Total day calls  Total day charge  \\\n",
              "International plan                                                         \n",
              "No                           538470.6           302237          91541.61   \n",
              "Yes                           60719.8            32515          10322.56   \n",
              "\n",
              "                    Total eve minutes  Total eve calls  Total eve charge  \\\n",
              "International plan                                                         \n",
              "No                           603995.9           301224          51340.26   \n",
              "Yes                           65871.6            32457           5599.18   \n",
              "\n",
              "                    Total night minutes  ...  Total intl charge  \\\n",
              "International plan                       ...                      \n",
              "No                             606066.0  ...            8287.37   \n",
              "Yes                             63440.5  ...             926.98   \n",
              "\n",
              "                    Customer service calls  Churn  total minutes domestic  \\\n",
              "International plan                                                          \n",
              "No                                    4736    346               1748532.5   \n",
              "Yes                                    473    137                190031.9   \n",
              "\n",
              "                    total charge domestic  avg domestic charge per min  \\\n",
              "International plan                                                       \n",
              "No                              170155.11                   292.410793   \n",
              "Yes                              18776.57                    31.854764   \n",
              "\n",
              "                    day charge per min  eve charge per min  \\\n",
              "International plan                                           \n",
              "No                          511.369274          255.768426   \n",
              "Yes                          54.911499           27.455482   \n",
              "\n",
              "                    night charge per min  intl charge per min  \n",
              "International plan                                             \n",
              "No                            135.451300           808.015087  \n",
              "Yes                            14.534852            87.222362  \n",
              "\n",
              "[2 rows x 24 columns]"
            ],
            "text/html": [
              "\n",
              "  <div id=\"df-b1974767-9fe9-40e0-8bd7-b4395cec8e6e\">\n",
              "    <div class=\"colab-df-container\">\n",
              "      <div>\n",
              "<style scoped>\n",
              "    .dataframe tbody tr th:only-of-type {\n",
              "        vertical-align: middle;\n",
              "    }\n",
              "\n",
              "    .dataframe tbody tr th {\n",
              "        vertical-align: top;\n",
              "    }\n",
              "\n",
              "    .dataframe thead th {\n",
              "        text-align: right;\n",
              "    }\n",
              "</style>\n",
              "<table border=\"1\" class=\"dataframe\">\n",
              "  <thead>\n",
              "    <tr style=\"text-align: right;\">\n",
              "      <th></th>\n",
              "      <th>Account length</th>\n",
              "      <th>Area code</th>\n",
              "      <th>Number vmail messages</th>\n",
              "      <th>Total day minutes</th>\n",
              "      <th>Total day calls</th>\n",
              "      <th>Total day charge</th>\n",
              "      <th>Total eve minutes</th>\n",
              "      <th>Total eve calls</th>\n",
              "      <th>Total eve charge</th>\n",
              "      <th>Total night minutes</th>\n",
              "      <th>...</th>\n",
              "      <th>Total intl charge</th>\n",
              "      <th>Customer service calls</th>\n",
              "      <th>Churn</th>\n",
              "      <th>total minutes domestic</th>\n",
              "      <th>total charge domestic</th>\n",
              "      <th>avg domestic charge per min</th>\n",
              "      <th>day charge per min</th>\n",
              "      <th>eve charge per min</th>\n",
              "      <th>night charge per min</th>\n",
              "      <th>intl charge per min</th>\n",
              "    </tr>\n",
              "    <tr>\n",
              "      <th>International plan</th>\n",
              "      <th></th>\n",
              "      <th></th>\n",
              "      <th></th>\n",
              "      <th></th>\n",
              "      <th></th>\n",
              "      <th></th>\n",
              "      <th></th>\n",
              "      <th></th>\n",
              "      <th></th>\n",
              "      <th></th>\n",
              "      <th></th>\n",
              "      <th></th>\n",
              "      <th></th>\n",
              "      <th></th>\n",
              "      <th></th>\n",
              "      <th></th>\n",
              "      <th></th>\n",
              "      <th></th>\n",
              "      <th></th>\n",
              "      <th></th>\n",
              "      <th></th>\n",
              "    </tr>\n",
              "  </thead>\n",
              "  <tbody>\n",
              "    <tr>\n",
              "      <th>No</th>\n",
              "      <td>303234</td>\n",
              "      <td>1313891</td>\n",
              "      <td>24260</td>\n",
              "      <td>538470.6</td>\n",
              "      <td>302237</td>\n",
              "      <td>91541.61</td>\n",
              "      <td>603995.9</td>\n",
              "      <td>301224</td>\n",
              "      <td>51340.26</td>\n",
              "      <td>606066.0</td>\n",
              "      <td>...</td>\n",
              "      <td>8287.37</td>\n",
              "      <td>4736</td>\n",
              "      <td>346</td>\n",
              "      <td>1748532.5</td>\n",
              "      <td>170155.11</td>\n",
              "      <td>292.410793</td>\n",
              "      <td>511.369274</td>\n",
              "      <td>255.768426</td>\n",
              "      <td>135.451300</td>\n",
              "      <td>808.015087</td>\n",
              "    </tr>\n",
              "    <tr>\n",
              "      <th>Yes</th>\n",
              "      <td>33615</td>\n",
              "      <td>143238</td>\n",
              "      <td>2734</td>\n",
              "      <td>60719.8</td>\n",
              "      <td>32515</td>\n",
              "      <td>10322.56</td>\n",
              "      <td>65871.6</td>\n",
              "      <td>32457</td>\n",
              "      <td>5599.18</td>\n",
              "      <td>63440.5</td>\n",
              "      <td>...</td>\n",
              "      <td>926.98</td>\n",
              "      <td>473</td>\n",
              "      <td>137</td>\n",
              "      <td>190031.9</td>\n",
              "      <td>18776.57</td>\n",
              "      <td>31.854764</td>\n",
              "      <td>54.911499</td>\n",
              "      <td>27.455482</td>\n",
              "      <td>14.534852</td>\n",
              "      <td>87.222362</td>\n",
              "    </tr>\n",
              "  </tbody>\n",
              "</table>\n",
              "<p>2 rows × 24 columns</p>\n",
              "</div>\n",
              "      <button class=\"colab-df-convert\" onclick=\"convertToInteractive('df-b1974767-9fe9-40e0-8bd7-b4395cec8e6e')\"\n",
              "              title=\"Convert this dataframe to an interactive table.\"\n",
              "              style=\"display:none;\">\n",
              "        \n",
              "  <svg xmlns=\"http://www.w3.org/2000/svg\" height=\"24px\"viewBox=\"0 0 24 24\"\n",
              "       width=\"24px\">\n",
              "    <path d=\"M0 0h24v24H0V0z\" fill=\"none\"/>\n",
              "    <path d=\"M18.56 5.44l.94 2.06.94-2.06 2.06-.94-2.06-.94-.94-2.06-.94 2.06-2.06.94zm-11 1L8.5 8.5l.94-2.06 2.06-.94-2.06-.94L8.5 2.5l-.94 2.06-2.06.94zm10 10l.94 2.06.94-2.06 2.06-.94-2.06-.94-.94-2.06-.94 2.06-2.06.94z\"/><path d=\"M17.41 7.96l-1.37-1.37c-.4-.4-.92-.59-1.43-.59-.52 0-1.04.2-1.43.59L10.3 9.45l-7.72 7.72c-.78.78-.78 2.05 0 2.83L4 21.41c.39.39.9.59 1.41.59.51 0 1.02-.2 1.41-.59l7.78-7.78 2.81-2.81c.8-.78.8-2.07 0-2.86zM5.41 20L4 18.59l7.72-7.72 1.47 1.35L5.41 20z\"/>\n",
              "  </svg>\n",
              "      </button>\n",
              "      \n",
              "  <style>\n",
              "    .colab-df-container {\n",
              "      display:flex;\n",
              "      flex-wrap:wrap;\n",
              "      gap: 12px;\n",
              "    }\n",
              "\n",
              "    .colab-df-convert {\n",
              "      background-color: #E8F0FE;\n",
              "      border: none;\n",
              "      border-radius: 50%;\n",
              "      cursor: pointer;\n",
              "      display: none;\n",
              "      fill: #1967D2;\n",
              "      height: 32px;\n",
              "      padding: 0 0 0 0;\n",
              "      width: 32px;\n",
              "    }\n",
              "\n",
              "    .colab-df-convert:hover {\n",
              "      background-color: #E2EBFA;\n",
              "      box-shadow: 0px 1px 2px rgba(60, 64, 67, 0.3), 0px 1px 3px 1px rgba(60, 64, 67, 0.15);\n",
              "      fill: #174EA6;\n",
              "    }\n",
              "\n",
              "    [theme=dark] .colab-df-convert {\n",
              "      background-color: #3B4455;\n",
              "      fill: #D2E3FC;\n",
              "    }\n",
              "\n",
              "    [theme=dark] .colab-df-convert:hover {\n",
              "      background-color: #434B5C;\n",
              "      box-shadow: 0px 1px 3px 1px rgba(0, 0, 0, 0.15);\n",
              "      filter: drop-shadow(0px 1px 2px rgba(0, 0, 0, 0.3));\n",
              "      fill: #FFFFFF;\n",
              "    }\n",
              "  </style>\n",
              "\n",
              "      <script>\n",
              "        const buttonEl =\n",
              "          document.querySelector('#df-b1974767-9fe9-40e0-8bd7-b4395cec8e6e button.colab-df-convert');\n",
              "        buttonEl.style.display =\n",
              "          google.colab.kernel.accessAllowed ? 'block' : 'none';\n",
              "\n",
              "        async function convertToInteractive(key) {\n",
              "          const element = document.querySelector('#df-b1974767-9fe9-40e0-8bd7-b4395cec8e6e');\n",
              "          const dataTable =\n",
              "            await google.colab.kernel.invokeFunction('convertToInteractive',\n",
              "                                                     [key], {});\n",
              "          if (!dataTable) return;\n",
              "\n",
              "          const docLinkHtml = 'Like what you see? Visit the ' +\n",
              "            '<a target=\"_blank\" href=https://colab.research.google.com/notebooks/data_table.ipynb>data table notebook</a>'\n",
              "            + ' to learn more about interactive tables.';\n",
              "          element.innerHTML = '';\n",
              "          dataTable['output_type'] = 'display_data';\n",
              "          await google.colab.output.renderOutput(dataTable, element);\n",
              "          const docLink = document.createElement('div');\n",
              "          docLink.innerHTML = docLinkHtml;\n",
              "          element.appendChild(docLink);\n",
              "        }\n",
              "      </script>\n",
              "    </div>\n",
              "  </div>\n",
              "  "
            ]
          },
          "metadata": {},
          "execution_count": 208
        }
      ]
    },
    {
      "cell_type": "code",
      "source": [
        "plan_size = int_group.size()\n",
        "plan_size"
      ],
      "metadata": {
        "colab": {
          "base_uri": "https://localhost:8080/"
        },
        "id": "vXQ7m7g3QmKj",
        "outputId": "3c9c1a46-e9ac-4156-b9b7-7c6c3dd5a94d"
      },
      "execution_count": null,
      "outputs": [
        {
          "output_type": "execute_result",
          "data": {
            "text/plain": [
              "International plan\n",
              "No     3010\n",
              "Yes     323\n",
              "dtype: int64"
            ]
          },
          "metadata": {},
          "execution_count": 209
        }
      ]
    },
    {
      "cell_type": "code",
      "source": [
        "plan_churn = int_group['Churn'].sum()\n",
        "plan_churn"
      ],
      "metadata": {
        "colab": {
          "base_uri": "https://localhost:8080/"
        },
        "id": "wX5j8nSOQmHE",
        "outputId": "2098f159-b911-4ed7-dfd0-0b711c9afcbb"
      },
      "execution_count": null,
      "outputs": [
        {
          "output_type": "execute_result",
          "data": {
            "text/plain": [
              "International plan\n",
              "No     346\n",
              "Yes    137\n",
              "Name: Churn, dtype: int64"
            ]
          },
          "metadata": {},
          "execution_count": 210
        }
      ]
    },
    {
      "cell_type": "code",
      "source": [
        "churn_percnt = round(plan_churn*100/plan_size,2)\n",
        "churn_percnt"
      ],
      "metadata": {
        "id": "YoAT9O7vQmE9",
        "colab": {
          "base_uri": "https://localhost:8080/"
        },
        "outputId": "392a2ab5-8c5d-4b8e-aa44-7bc96ac7db32"
      },
      "execution_count": null,
      "outputs": [
        {
          "output_type": "execute_result",
          "data": {
            "text/plain": [
              "International plan\n",
              "No     11.50\n",
              "Yes    42.41\n",
              "dtype: float64"
            ]
          },
          "metadata": {},
          "execution_count": 211
        }
      ]
    },
    {
      "cell_type": "markdown",
      "source": [
        "# As clearly reflected from the graph, it can be seen that the international plan holder have the highest percentage of churn, 42.4 % while domestic churn is limited to 11.5%. "
      ],
      "metadata": {
        "id": "SRRrxFzjorZN"
      }
    },
    {
      "cell_type": "code",
      "source": [
        "churn_percnt.plot(kind='bar',title='Churn Percentage Comparison')"
      ],
      "metadata": {
        "id": "hWZCCofjQmCb",
        "colab": {
          "base_uri": "https://localhost:8080/",
          "height": 323
        },
        "outputId": "9e47c6ee-a0c4-411c-a940-d78ae927e641"
      },
      "execution_count": null,
      "outputs": [
        {
          "output_type": "execute_result",
          "data": {
            "text/plain": [
              "<matplotlib.axes._subplots.AxesSubplot at 0x7fde1aeb94d0>"
            ]
          },
          "metadata": {},
          "execution_count": 212
        },
        {
          "output_type": "display_data",
          "data": {
            "text/plain": [
              "<Figure size 432x288 with 1 Axes>"
            ],
            "image/png": "[encoded data removed]"
          },
          "metadata": {}
        }
      ]
    },
    {
      "cell_type": "markdown",
      "source": [
        "## Carrying out analysis to compare domestic plan tarrif and internnational plan tarrif"
      ],
      "metadata": {
        "id": "5v91k2rvmA6Q"
      }
    },
    {
      "cell_type": "code",
      "source": [],
      "metadata": {
        "id": "bmUigdutltpY"
      },
      "execution_count": null,
      "outputs": []
    },
    {
      "cell_type": "code",
      "source": [
        "int_group_sum = int_group.sum()\n",
        "\n",
        "eve_charges = int_group_sum['Total eve charge']/int_group_sum['Total eve minutes']\n",
        "print(eve_charges)\n",
        "eve_charges.plot(kind='bar',title='Evening Charge Comparison')"
      ],
      "metadata": {
        "colab": {
          "base_uri": "https://localhost:8080/",
          "height": 396
        },
        "id": "ELJ0RJQ5Ivma",
        "outputId": "fd1635e7-7119-49fd-ad73-172bba934931"
      },
      "execution_count": null,
      "outputs": [
        {
          "output_type": "stream",
          "name": "stdout",
          "text": [
            "International plan\n",
            "No     0.085001\n",
            "Yes    0.085001\n",
            "dtype: float64\n"
          ]
        },
        {
          "output_type": "execute_result",
          "data": {
            "text/plain": [
              "<matplotlib.axes._subplots.AxesSubplot at 0x7fde1ac77990>"
            ]
          },
          "metadata": {},
          "execution_count": 213
        },
        {
          "output_type": "display_data",
          "data": {
            "text/plain": [
              "<Figure size 432x288 with 1 Axes>"
            ],
            "image/png": "[encoded data removed]"
          },
          "metadata": {}
        }
      ]
    },
    {
      "cell_type": "code",
      "source": [
        "day_charges = int_group_sum['Total day charge']/int_group_sum['Total day minutes']\n",
        "print(day_charges)\n",
        "day_charges.plot(kind='bar',title='Day Charge Comparison')"
      ],
      "metadata": {
        "colab": {
          "base_uri": "https://localhost:8080/",
          "height": 396
        },
        "id": "SjBvdhQrKCJc",
        "outputId": "ca110b41-e8bd-40cc-970d-a46eadf41faa"
      },
      "execution_count": null,
      "outputs": [
        {
          "output_type": "stream",
          "name": "stdout",
          "text": [
            "International plan\n",
            "No     0.170003\n",
            "Yes    0.170003\n",
            "dtype: float64\n"
          ]
        },
        {
          "output_type": "execute_result",
          "data": {
            "text/plain": [
              "<matplotlib.axes._subplots.AxesSubplot at 0x7fde1aacb110>"
            ]
          },
          "metadata": {},
          "execution_count": 214
        },
        {
          "output_type": "display_data",
          "data": {
            "text/plain": [
              "<Figure size 432x288 with 1 Axes>"
            ],
            "image/png": "[encoded data removed]"
          },
          "metadata": {}
        }
      ]
    },
    {
      "cell_type": "code",
      "source": [
        "night_charges = int_group_sum['Total night charge']/int_group_sum['Total night minutes']\n",
        "print(night_charges)\n",
        "night_charges.plot(kind='bar',title='Night Charge Comparison')"
      ],
      "metadata": {
        "colab": {
          "base_uri": "https://localhost:8080/",
          "height": 396
        },
        "id": "thNgxM5HKCGL",
        "outputId": "b2e3d239-1467-4bc2-a37a-57b710e30d97"
      },
      "execution_count": null,
      "outputs": [
        {
          "output_type": "stream",
          "name": "stdout",
          "text": [
            "International plan\n",
            "No     0.045\n",
            "Yes    0.045\n",
            "dtype: float64\n"
          ]
        },
        {
          "output_type": "execute_result",
          "data": {
            "text/plain": [
              "<matplotlib.axes._subplots.AxesSubplot at 0x7fde1aac5050>"
            ]
          },
          "metadata": {},
          "execution_count": 215
        },
        {
          "output_type": "display_data",
          "data": {
            "text/plain": [
              "<Figure size 432x288 with 1 Axes>"
            ],
            "image/png": "[encoded data removed]"
          },
          "metadata": {}
        }
      ]
    },
    {
      "cell_type": "code",
      "source": [
        "domestic_charges = int_group_sum['total charge domestic']/int_group_sum['total minutes domestic']\n",
        "print(domestic_charges)\n",
        "domestic_charges.plot(kind='bar',title='Domestic Charge Comparison')"
      ],
      "metadata": {
        "colab": {
          "base_uri": "https://localhost:8080/",
          "height": 396
        },
        "id": "Cs4DMgARKCDa",
        "outputId": "63ea302f-d5e7-4399-ae99-889beeeb376c"
      },
      "execution_count": null,
      "outputs": [
        {
          "output_type": "stream",
          "name": "stdout",
          "text": [
            "International plan\n",
            "No     0.097313\n",
            "Yes    0.098807\n",
            "dtype: float64\n"
          ]
        },
        {
          "output_type": "execute_result",
          "data": {
            "text/plain": [
              "<matplotlib.axes._subplots.AxesSubplot at 0x7fde19611190>"
            ]
          },
          "metadata": {},
          "execution_count": 219
        },
        {
          "output_type": "display_data",
          "data": {
            "text/plain": [
              "<Figure size 432x288 with 1 Axes>"
            ],
            "image/png": "[encoded data removed]"
          },
          "metadata": {}
        }
      ]
    },
    {
      "cell_type": "code",
      "source": [
        "int_charges = int_group_sum['Total intl charge']/int_group_sum['Total intl minutes']\n",
        "print(int_charges)\n",
        "int_charges.plot(kind='bar',title='International Charge Comparison')"
      ],
      "metadata": {
        "colab": {
          "base_uri": "https://localhost:8080/",
          "height": 396
        },
        "id": "DJq3Tb54KCAu",
        "outputId": "912d6668-ef12-460b-a4b7-5517132f96c5"
      },
      "execution_count": null,
      "outputs": [
        {
          "output_type": "stream",
          "name": "stdout",
          "text": [
            "International plan\n",
            "No     0.270052\n",
            "Yes    0.270028\n",
            "dtype: float64\n"
          ]
        },
        {
          "output_type": "execute_result",
          "data": {
            "text/plain": [
              "<matplotlib.axes._subplots.AxesSubplot at 0x7fde196ce110>"
            ]
          },
          "metadata": {},
          "execution_count": 220
        },
        {
          "output_type": "display_data",
          "data": {
            "text/plain": [
              "<Figure size 432x288 with 1 Axes>"
            ],
            "image/png": "[encoded data removed]"
          },
          "metadata": {}
        }
      ]
    },
    {
      "cell_type": "markdown",
      "source": [
        "# From the above analysis it is clear that even for international calls the calling rates for international plan holders and non-holders is the same. Hence, there are no benefits of holding an international plan over domestic plan even for an international caller."
      ],
      "metadata": {
        "id": "XECDwHFnQQkk"
      }
    },
    {
      "cell_type": "markdown",
      "source": [
        "## Tarrif comparison for international calls and domestic calls."
      ],
      "metadata": {
        "id": "q465N2cbo9Ka"
      }
    },
    {
      "cell_type": "code",
      "source": [
        "diff_tarrif = (int_charges-domestic_charges)*100/domestic_charges\n",
        "diff_tarrif"
      ],
      "metadata": {
        "id": "tHwQOAudKB9f",
        "colab": {
          "base_uri": "https://localhost:8080/"
        },
        "outputId": "bc77b06e-2663-4f1f-8883-a58d55cc4747"
      },
      "execution_count": null,
      "outputs": [
        {
          "output_type": "execute_result",
          "data": {
            "text/plain": [
              "International plan\n",
              "No     177.508862\n",
              "Yes    173.287307\n",
              "dtype: float64"
            ]
          },
          "metadata": {},
          "execution_count": 181
        }
      ]
    },
    {
      "cell_type": "code",
      "source": [
        "diff_tarrif.plot(kind='bar',title='% Increase in Tarrif from Domestic Calls ')"
      ],
      "metadata": {
        "id": "mIUnPfupKB6e",
        "colab": {
          "base_uri": "https://localhost:8080/",
          "height": 323
        },
        "outputId": "14119a53-bc3a-4b95-bdce-81cc8eab90d9"
      },
      "execution_count": null,
      "outputs": [
        {
          "output_type": "execute_result",
          "data": {
            "text/plain": [
              "<matplotlib.axes._subplots.AxesSubplot at 0x7fde19e38990>"
            ]
          },
          "metadata": {},
          "execution_count": 221
        },
        {
          "output_type": "display_data",
          "data": {
            "text/plain": [
              "<Figure size 432x288 with 1 Axes>"
            ],
            "image/png": "[encoded data removed]"
          },
          "metadata": {}
        }
      ]
    },
    {
      "cell_type": "code",
      "source": [
        "diff_tarrif.mean()"
      ],
      "metadata": {
        "id": "9RAGdpt2KB3O",
        "colab": {
          "base_uri": "https://localhost:8080/"
        },
        "outputId": "b59f16c0-20eb-406f-b9a3-7222c88ff450"
      },
      "execution_count": null,
      "outputs": [
        {
          "output_type": "execute_result",
          "data": {
            "text/plain": [
              "175.39808453210287"
            ]
          },
          "metadata": {},
          "execution_count": 222
        }
      ]
    },
    {
      "cell_type": "markdown",
      "source": [
        "### It can be seen that on an average,the international calls are 175% that is 1.75 times more costlier that the domestic calls.\n",
        "\n",
        "# This high difference in tarrif can also pose as a reason for high churn rates amongst the international plan holders."
      ],
      "metadata": {
        "id": "Bb469X9onrWy"
      }
    },
    {
      "cell_type": "markdown",
      "source": [],
      "metadata": {
        "id": "GB858qGCoPef"
      }
    },
    {
      "cell_type": "markdown",
      "source": [],
      "metadata": {
        "id": "5089w1CWoPbc"
      }
    },
    {
      "cell_type": "markdown",
      "source": [
        "\n",
        "\n",
        "# > Now let's explore if the churn is concentrated to one particular area code\n",
        "\n"
      ],
      "metadata": {
        "id": "DYzZYeqarv0Q"
      }
    },
    {
      "cell_type": "code",
      "source": [
        "df['Area code'].unique()"
      ],
      "metadata": {
        "colab": {
          "base_uri": "https://localhost:8080/"
        },
        "id": "WPftgBJnfdAc",
        "outputId": "0dec94dc-05fd-4999-9fc0-5ba720defe02"
      },
      "execution_count": null,
      "outputs": [
        {
          "output_type": "execute_result",
          "data": {
            "text/plain": [
              "array([415, 408, 510])"
            ]
          },
          "metadata": {},
          "execution_count": 223
        }
      ]
    },
    {
      "cell_type": "code",
      "source": [
        "area_code_group = df.groupby('Area code')\n",
        "print(area_code_group.get_group(415))"
      ],
      "metadata": {
        "id": "DUyezCCYKB0G",
        "colab": {
          "base_uri": "https://localhost:8080/"
        },
        "outputId": "5e049f2d-9d00-4e2a-be4c-c286f74caed4"
      },
      "execution_count": null,
      "outputs": [
        {
          "output_type": "stream",
          "name": "stdout",
          "text": [
            "     State  Account length  Area code International plan Voice mail plan  \\\n",
            "0       KS             128        415                 No             Yes   \n",
            "1       OH             107        415                 No             Yes   \n",
            "2       NJ             137        415                 No              No   \n",
            "4       OK              75        415                Yes              No   \n",
            "7       MO             147        415                Yes              No   \n",
            "...    ...             ...        ...                ...             ...   \n",
            "3326    OH              96        415                 No              No   \n",
            "3327    SC              79        415                 No              No   \n",
            "3328    AZ             192        415                 No             Yes   \n",
            "3329    WV              68        415                 No              No   \n",
            "3332    TN              74        415                 No             Yes   \n",
            "\n",
            "      Number vmail messages  Total day minutes  Total day calls  \\\n",
            "0                        25              265.1              110   \n",
            "1                        26              161.6              123   \n",
            "2                         0              243.4              114   \n",
            "4                         0              166.7              113   \n",
            "7                         0              157.0               79   \n",
            "...                     ...                ...              ...   \n",
            "3326                      0              106.6              128   \n",
            "3327                      0              134.7               98   \n",
            "3328                     36              156.2               77   \n",
            "3329                      0              231.1               57   \n",
            "3332                     25              234.4              113   \n",
            "\n",
            "      Total day charge  Total eve minutes  ...  Total intl charge  \\\n",
            "0                45.07              197.4  ...               2.70   \n",
            "1                27.47              195.5  ...               3.70   \n",
            "2                41.38              121.2  ...               3.29   \n",
            "4                28.34              148.3  ...               2.73   \n",
            "7                26.69              103.1  ...               1.92   \n",
            "...                ...                ...  ...                ...   \n",
            "3326             18.12              284.8  ...               4.02   \n",
            "3327             22.90              189.7  ...               3.19   \n",
            "3328             26.55              215.5  ...               2.67   \n",
            "3329             39.29              153.4  ...               2.59   \n",
            "3332             39.85              265.9  ...               3.70   \n",
            "\n",
            "      Customer service calls  Churn  total minutes domestic  \\\n",
            "0                          1  False                   707.2   \n",
            "1                          1  False                   611.5   \n",
            "2                          0  False                   527.2   \n",
            "4                          3  False                   501.9   \n",
            "7                          0  False                   471.9   \n",
            "...                      ...    ...                     ...   \n",
            "3326                       1  False                   570.3   \n",
            "3327                       2  False                   545.8   \n",
            "3328                       2  False                   650.8   \n",
            "3329                       3  False                   575.8   \n",
            "3332                       0  False                   741.7   \n",
            "\n",
            "      total charge domestic  avg domestic charge per min  day charge per min  \\\n",
            "0                     72.86                     0.103026            0.170011   \n",
            "1                     55.54                     0.090826            0.169988   \n",
            "2                     59.00                     0.111912            0.170008   \n",
            "4                     49.36                     0.098346            0.170006   \n",
            "7                     44.98                     0.095317            0.170000   \n",
            "...                     ...                          ...                 ...   \n",
            "3326                  50.38                     0.088339            0.169981   \n",
            "3327                  48.98                     0.089740            0.170007   \n",
            "3328                  57.43                     0.088245            0.169974   \n",
            "3329                  60.94                     0.105835            0.170013   \n",
            "3332                  73.31                     0.098841            0.170009   \n",
            "\n",
            "      eve charge per min  night charge per min  intl charge per min  \n",
            "0               0.085005              0.044994             0.270000  \n",
            "1               0.085013              0.045008             0.270073  \n",
            "2               0.084983              0.045018             0.269672  \n",
            "4               0.085030              0.044997             0.270297  \n",
            "7               0.084966              0.044995             0.270423  \n",
            "...                  ...                   ...                  ...  \n",
            "3326            0.085007              0.044997             0.269799  \n",
            "3327            0.084976              0.044986             0.270339  \n",
            "3328            0.085012              0.045002             0.269697  \n",
            "3329            0.085007              0.045008             0.269792  \n",
            "3332            0.084994              0.044988             0.270073  \n",
            "\n",
            "[1655 rows x 27 columns]\n"
          ]
        }
      ]
    },
    {
      "cell_type": "code",
      "source": [
        "print(area_code_group.get_group(408))"
      ],
      "metadata": {
        "colab": {
          "base_uri": "https://localhost:8080/"
        },
        "id": "JYuclul7euKG",
        "outputId": "e1d4dbbe-1744-44f6-ac57-16d3ba4f790f"
      },
      "execution_count": null,
      "outputs": [
        {
          "output_type": "stream",
          "name": "stdout",
          "text": [
            "     State  Account length  Area code International plan Voice mail plan  \\\n",
            "3       OH              84        408                Yes              No   \n",
            "8       LA             117        408                 No              No   \n",
            "12      IA             168        408                 No              No   \n",
            "16      ID              85        408                 No             Yes   \n",
            "21      CO              77        408                 No              No   \n",
            "...    ...             ...        ...                ...             ...   \n",
            "3309    VT             100        408                Yes              No   \n",
            "3312    SC             181        408                 No              No   \n",
            "3313    ID             127        408                 No              No   \n",
            "3322    MD              62        408                 No              No   \n",
            "3325    OH              78        408                 No              No   \n",
            "\n",
            "      Number vmail messages  Total day minutes  Total day calls  \\\n",
            "3                         0              299.4               71   \n",
            "8                         0              184.5               97   \n",
            "12                        0              128.8               96   \n",
            "16                       27              196.4              139   \n",
            "21                        0               62.4               89   \n",
            "...                     ...                ...              ...   \n",
            "3309                      0              219.4              112   \n",
            "3312                      0              229.9              130   \n",
            "3313                      0              102.8              128   \n",
            "3322                      0              321.1              105   \n",
            "3325                      0              193.4               99   \n",
            "\n",
            "      Total day charge  Total eve minutes  ...  Total intl charge  \\\n",
            "3                50.90               61.9  ...               1.78   \n",
            "8                31.37              351.6  ...               2.35   \n",
            "12               21.90              104.9  ...               3.02   \n",
            "16               33.39              280.9  ...               3.73   \n",
            "21               10.61              169.9  ...               1.54   \n",
            "...                ...                ...  ...                ...   \n",
            "3309             37.30              225.7  ...               3.24   \n",
            "3312             39.08              144.4  ...               3.83   \n",
            "3313             17.48              143.7  ...               2.70   \n",
            "3322             54.59              265.5  ...               3.11   \n",
            "3325             32.88              116.9  ...               2.51   \n",
            "\n",
            "      Customer service calls  Churn  total minutes domestic  \\\n",
            "3                          2  False                   558.2   \n",
            "8                          1  False                   751.9   \n",
            "12                         1  False                   374.8   \n",
            "16                         1  False                   566.6   \n",
            "21                         5   True                   441.9   \n",
            "...                      ...    ...                     ...   \n",
            "3309                       4  False                   700.4   \n",
            "3312                       2  False                   636.7   \n",
            "3313                       1  False                   437.9   \n",
            "3322                       4   True                   767.1   \n",
            "3325                       2  False                   553.6   \n",
            "\n",
            "      total charge domestic  avg domestic charge per min  day charge per min  \\\n",
            "3                     65.02                     0.116482            0.170007   \n",
            "8                     70.97                     0.094388            0.170027   \n",
            "12                    37.17                     0.099173            0.170031   \n",
            "16                    61.29                     0.108172            0.170010   \n",
            "21                    34.48                     0.078027            0.170032   \n",
            "...                     ...                          ...                 ...   \n",
            "3309                  67.97                     0.097045            0.170009   \n",
            "3312                  63.16                     0.099199            0.169987   \n",
            "3313                  38.30                     0.087463            0.170039   \n",
            "3322                  85.28                     0.111172            0.170009   \n",
            "3325                  53.77                     0.097128            0.170010   \n",
            "\n",
            "      eve charge per min  night charge per min  intl charge per min  \n",
            "3               0.084976              0.044997             0.269697  \n",
            "8               0.085011              0.044995             0.270115  \n",
            "12              0.085033              0.045004             0.269643  \n",
            "16              0.085012              0.045017             0.270290  \n",
            "21              0.084991              0.044990             0.270175  \n",
            "...                  ...                   ...                  ...  \n",
            "3309            0.084980              0.045006             0.270000  \n",
            "3312            0.084972              0.045008             0.269718  \n",
            "3313            0.084969              0.044984             0.270000  \n",
            "3322            0.085009              0.044986             0.270435  \n",
            "3325            0.085030              0.045006             0.269892  \n",
            "\n",
            "[838 rows x 27 columns]\n"
          ]
        }
      ]
    },
    {
      "cell_type": "code",
      "source": [
        "print(area_code_group.get_group(510))"
      ],
      "metadata": {
        "colab": {
          "base_uri": "https://localhost:8080/"
        },
        "id": "hOSzbYpneuGy",
        "outputId": "bf0a0c6b-b490-486d-ff3e-de62ab7dc9c7"
      },
      "execution_count": null,
      "outputs": [
        {
          "output_type": "stream",
          "name": "stdout",
          "text": [
            "     State  Account length  Area code International plan Voice mail plan  \\\n",
            "5       AL             118        510                Yes              No   \n",
            "6       MA             121        510                 No             Yes   \n",
            "13      MT              95        510                 No              No   \n",
            "17      VT              93        510                 No              No   \n",
            "18      VA              76        510                 No             Yes   \n",
            "...    ...             ...        ...                ...             ...   \n",
            "3304    IL              71        510                Yes              No   \n",
            "3316    MS             103        510                 No             Yes   \n",
            "3320    GA             122        510                Yes              No   \n",
            "3330    RI              28        510                 No              No   \n",
            "3331    CT             184        510                Yes              No   \n",
            "\n",
            "      Number vmail messages  Total day minutes  Total day calls  \\\n",
            "5                         0              223.4               98   \n",
            "6                        24              218.2               88   \n",
            "13                        0              156.6               88   \n",
            "17                        0              190.7              114   \n",
            "18                       33              189.7               66   \n",
            "...                     ...                ...              ...   \n",
            "3304                      0              186.1              114   \n",
            "3316                     29              164.1              111   \n",
            "3320                      0              140.0              101   \n",
            "3330                      0              180.8              109   \n",
            "3331                      0              213.8              105   \n",
            "\n",
            "      Total day charge  Total eve minutes  ...  Total intl charge  \\\n",
            "5                37.98              220.6  ...               1.70   \n",
            "6                37.09              348.5  ...               2.03   \n",
            "13               26.62              247.6  ...               3.32   \n",
            "17               32.42              218.2  ...               2.19   \n",
            "18               32.25              212.8  ...               2.70   \n",
            "...                ...                ...  ...                ...   \n",
            "3304             31.64              198.6  ...               3.73   \n",
            "3316             27.90              219.1  ...               3.32   \n",
            "3320             23.80              196.4  ...               2.62   \n",
            "3330             30.74              288.8  ...               3.81   \n",
            "3331             36.35              159.6  ...               1.35   \n",
            "\n",
            "      Customer service calls  Churn  total minutes domestic  \\\n",
            "5                          0  False                   647.9   \n",
            "6                          3  False                   779.3   \n",
            "13                         3  False                   596.5   \n",
            "17                         3  False                   538.5   \n",
            "18                         1  False                   568.2   \n",
            "...                      ...    ...                     ...   \n",
            "3304                       4   True                   591.2   \n",
            "3316                       0  False                   603.5   \n",
            "3320                       4   True                   456.5   \n",
            "3330                       2  False                   661.5   \n",
            "3331                       2  False                   512.6   \n",
            "\n",
            "      total charge domestic  avg domestic charge per min  day charge per min  \\\n",
            "5                     65.91                     0.101729            0.170009   \n",
            "6                     76.28                     0.097883            0.169982   \n",
            "13                    56.32                     0.094417            0.169987   \n",
            "17                    56.80                     0.105478            0.170005   \n",
            "18                    57.80                     0.101725            0.170005   \n",
            "...                     ...                          ...                 ...   \n",
            "3304                  57.81                     0.097784            0.170016   \n",
            "3316                  56.43                     0.093505            0.170018   \n",
            "3320                  45.89                     0.100526            0.170000   \n",
            "3330                  63.93                     0.096644            0.170022   \n",
            "3331                  56.18                     0.109598            0.170019   \n",
            "\n",
            "      eve charge per min  night charge per min  intl charge per min  \n",
            "5               0.084995              0.045022             0.269841  \n",
            "6               0.084993              0.045014             0.270667  \n",
            "13              0.085016              0.044982             0.269919  \n",
            "17              0.085014              0.044985             0.270370  \n",
            "18              0.085009              0.045021             0.270000  \n",
            "...                  ...                   ...                  ...  \n",
            "3304            0.084995              0.044988             0.270290  \n",
            "3316            0.084984              0.044984             0.269919  \n",
            "3320            0.084980              0.044963             0.270103  \n",
            "3330            0.085007              0.045023             0.270213  \n",
            "3331            0.085025              0.044971             0.270000  \n",
            "\n",
            "[840 rows x 27 columns]\n"
          ]
        }
      ]
    },
    {
      "cell_type": "code",
      "source": [
        "area_code_group.size()"
      ],
      "metadata": {
        "colab": {
          "base_uri": "https://localhost:8080/"
        },
        "id": "YA29IjO_et_1",
        "outputId": "8ada4aa0-804e-4c31-d310-69275483d9f0"
      },
      "execution_count": null,
      "outputs": [
        {
          "output_type": "execute_result",
          "data": {
            "text/plain": [
              "Area code\n",
              "408     838\n",
              "415    1655\n",
              "510     840\n",
              "dtype: int64"
            ]
          },
          "metadata": {},
          "execution_count": 227
        }
      ]
    },
    {
      "cell_type": "code",
      "source": [
        "area_code_group.sum()"
      ],
      "metadata": {
        "colab": {
          "base_uri": "https://localhost:8080/",
          "height": 317
        },
        "id": "j-Co_Lfset9N",
        "outputId": "40be562d-1cd0-4164-93cd-389e4e9e11e2"
      },
      "execution_count": null,
      "outputs": [
        {
          "output_type": "execute_result",
          "data": {
            "text/plain": [
              "           Account length  Number vmail messages  Total day minutes  \\\n",
              "Area code                                                             \n",
              "408                 85373                   6426           148473.0   \n",
              "415                167269                  13832           300535.8   \n",
              "510                 84207                   6736           150181.6   \n",
              "\n",
              "           Total day calls  Total day charge  Total eve minutes  \\\n",
              "Area code                                                         \n",
              "408                  84216          25240.79           168676.2   \n",
              "415                 166454          51092.06           332079.2   \n",
              "510                  84082          25531.32           169112.1   \n",
              "\n",
              "           Total eve calls  Total eve charge  Total night minutes  \\\n",
              "Area code                                                           \n",
              "408                  83623          14337.60             166941.9   \n",
              "415                 166334          28226.97             334372.2   \n",
              "510                  83724          14374.87             168192.4   \n",
              "\n",
              "           Total night calls  ...  Total intl charge  Customer service calls  \\\n",
              "Area code                     ...                                              \n",
              "408                    82995  ...            2291.71                    1273   \n",
              "415                   166159  ...            4622.84                    2572   \n",
              "510                    84505  ...            2299.80                    1364   \n",
              "\n",
              "           Churn  total minutes domestic  total charge domestic  \\\n",
              "Area code                                                         \n",
              "408          122                484091.1               47090.88   \n",
              "415          236                966987.2               94365.95   \n",
              "510          125                487486.1               47474.85   \n",
              "\n",
              "           avg domestic charge per min  day charge per min  \\\n",
              "Area code                                                    \n",
              "408                          81.329521          142.462468   \n",
              "415                         161.259991          281.185985   \n",
              "510                          81.676045          142.632321   \n",
              "\n",
              "           eve charge per min  night charge per min  intl charge per min  \n",
              "Area code                                                                 \n",
              "408                 71.230752             37.710389           224.696170  \n",
              "415                140.591394             74.475684           445.055305  \n",
              "510                 71.401763             37.800079           225.485973  \n",
              "\n",
              "[3 rows x 23 columns]"
            ],
            "text/html": [
              "\n",
              "  <div id=\"df-c65841bd-d913-40b4-bd23-0dcf826f266b\">\n",
              "    <div class=\"colab-df-container\">\n",
              "      <div>\n",
              "<style scoped>\n",
              "    .dataframe tbody tr th:only-of-type {\n",
              "        vertical-align: middle;\n",
              "    }\n",
              "\n",
              "    .dataframe tbody tr th {\n",
              "        vertical-align: top;\n",
              "    }\n",
              "\n",
              "    .dataframe thead th {\n",
              "        text-align: right;\n",
              "    }\n",
              "</style>\n",
              "<table border=\"1\" class=\"dataframe\">\n",
              "  <thead>\n",
              "    <tr style=\"text-align: right;\">\n",
              "      <th></th>\n",
              "      <th>Account length</th>\n",
              "      <th>Number vmail messages</th>\n",
              "      <th>Total day minutes</th>\n",
              "      <th>Total day calls</th>\n",
              "      <th>Total day charge</th>\n",
              "      <th>Total eve minutes</th>\n",
              "      <th>Total eve calls</th>\n",
              "      <th>Total eve charge</th>\n",
              "      <th>Total night minutes</th>\n",
              "      <th>Total night calls</th>\n",
              "      <th>...</th>\n",
              "      <th>Total intl charge</th>\n",
              "      <th>Customer service calls</th>\n",
              "      <th>Churn</th>\n",
              "      <th>total minutes domestic</th>\n",
              "      <th>total charge domestic</th>\n",
              "      <th>avg domestic charge per min</th>\n",
              "      <th>day charge per min</th>\n",
              "      <th>eve charge per min</th>\n",
              "      <th>night charge per min</th>\n",
              "      <th>intl charge per min</th>\n",
              "    </tr>\n",
              "    <tr>\n",
              "      <th>Area code</th>\n",
              "      <th></th>\n",
              "      <th></th>\n",
              "      <th></th>\n",
              "      <th></th>\n",
              "      <th></th>\n",
              "      <th></th>\n",
              "      <th></th>\n",
              "      <th></th>\n",
              "      <th></th>\n",
              "      <th></th>\n",
              "      <th></th>\n",
              "      <th></th>\n",
              "      <th></th>\n",
              "      <th></th>\n",
              "      <th></th>\n",
              "      <th></th>\n",
              "      <th></th>\n",
              "      <th></th>\n",
              "      <th></th>\n",
              "      <th></th>\n",
              "      <th></th>\n",
              "    </tr>\n",
              "  </thead>\n",
              "  <tbody>\n",
              "    <tr>\n",
              "      <th>408</th>\n",
              "      <td>85373</td>\n",
              "      <td>6426</td>\n",
              "      <td>148473.0</td>\n",
              "      <td>84216</td>\n",
              "      <td>25240.79</td>\n",
              "      <td>168676.2</td>\n",
              "      <td>83623</td>\n",
              "      <td>14337.60</td>\n",
              "      <td>166941.9</td>\n",
              "      <td>82995</td>\n",
              "      <td>...</td>\n",
              "      <td>2291.71</td>\n",
              "      <td>1273</td>\n",
              "      <td>122</td>\n",
              "      <td>484091.1</td>\n",
              "      <td>47090.88</td>\n",
              "      <td>81.329521</td>\n",
              "      <td>142.462468</td>\n",
              "      <td>71.230752</td>\n",
              "      <td>37.710389</td>\n",
              "      <td>224.696170</td>\n",
              "    </tr>\n",
              "    <tr>\n",
              "      <th>415</th>\n",
              "      <td>167269</td>\n",
              "      <td>13832</td>\n",
              "      <td>300535.8</td>\n",
              "      <td>166454</td>\n",
              "      <td>51092.06</td>\n",
              "      <td>332079.2</td>\n",
              "      <td>166334</td>\n",
              "      <td>28226.97</td>\n",
              "      <td>334372.2</td>\n",
              "      <td>166159</td>\n",
              "      <td>...</td>\n",
              "      <td>4622.84</td>\n",
              "      <td>2572</td>\n",
              "      <td>236</td>\n",
              "      <td>966987.2</td>\n",
              "      <td>94365.95</td>\n",
              "      <td>161.259991</td>\n",
              "      <td>281.185985</td>\n",
              "      <td>140.591394</td>\n",
              "      <td>74.475684</td>\n",
              "      <td>445.055305</td>\n",
              "    </tr>\n",
              "    <tr>\n",
              "      <th>510</th>\n",
              "      <td>84207</td>\n",
              "      <td>6736</td>\n",
              "      <td>150181.6</td>\n",
              "      <td>84082</td>\n",
              "      <td>25531.32</td>\n",
              "      <td>169112.1</td>\n",
              "      <td>83724</td>\n",
              "      <td>14374.87</td>\n",
              "      <td>168192.4</td>\n",
              "      <td>84505</td>\n",
              "      <td>...</td>\n",
              "      <td>2299.80</td>\n",
              "      <td>1364</td>\n",
              "      <td>125</td>\n",
              "      <td>487486.1</td>\n",
              "      <td>47474.85</td>\n",
              "      <td>81.676045</td>\n",
              "      <td>142.632321</td>\n",
              "      <td>71.401763</td>\n",
              "      <td>37.800079</td>\n",
              "      <td>225.485973</td>\n",
              "    </tr>\n",
              "  </tbody>\n",
              "</table>\n",
              "<p>3 rows × 23 columns</p>\n",
              "</div>\n",
              "      <button class=\"colab-df-convert\" onclick=\"convertToInteractive('df-c65841bd-d913-40b4-bd23-0dcf826f266b')\"\n",
              "              title=\"Convert this dataframe to an interactive table.\"\n",
              "              style=\"display:none;\">\n",
              "        \n",
              "  <svg xmlns=\"http://www.w3.org/2000/svg\" height=\"24px\"viewBox=\"0 0 24 24\"\n",
              "       width=\"24px\">\n",
              "    <path d=\"M0 0h24v24H0V0z\" fill=\"none\"/>\n",
              "    <path d=\"M18.56 5.44l.94 2.06.94-2.06 2.06-.94-2.06-.94-.94-2.06-.94 2.06-2.06.94zm-11 1L8.5 8.5l.94-2.06 2.06-.94-2.06-.94L8.5 2.5l-.94 2.06-2.06.94zm10 10l.94 2.06.94-2.06 2.06-.94-2.06-.94-.94-2.06-.94 2.06-2.06.94z\"/><path d=\"M17.41 7.96l-1.37-1.37c-.4-.4-.92-.59-1.43-.59-.52 0-1.04.2-1.43.59L10.3 9.45l-7.72 7.72c-.78.78-.78 2.05 0 2.83L4 21.41c.39.39.9.59 1.41.59.51 0 1.02-.2 1.41-.59l7.78-7.78 2.81-2.81c.8-.78.8-2.07 0-2.86zM5.41 20L4 18.59l7.72-7.72 1.47 1.35L5.41 20z\"/>\n",
              "  </svg>\n",
              "      </button>\n",
              "      \n",
              "  <style>\n",
              "    .colab-df-container {\n",
              "      display:flex;\n",
              "      flex-wrap:wrap;\n",
              "      gap: 12px;\n",
              "    }\n",
              "\n",
              "    .colab-df-convert {\n",
              "      background-color: #E8F0FE;\n",
              "      border: none;\n",
              "      border-radius: 50%;\n",
              "      cursor: pointer;\n",
              "      display: none;\n",
              "      fill: #1967D2;\n",
              "      height: 32px;\n",
              "      padding: 0 0 0 0;\n",
              "      width: 32px;\n",
              "    }\n",
              "\n",
              "    .colab-df-convert:hover {\n",
              "      background-color: #E2EBFA;\n",
              "      box-shadow: 0px 1px 2px rgba(60, 64, 67, 0.3), 0px 1px 3px 1px rgba(60, 64, 67, 0.15);\n",
              "      fill: #174EA6;\n",
              "    }\n",
              "\n",
              "    [theme=dark] .colab-df-convert {\n",
              "      background-color: #3B4455;\n",
              "      fill: #D2E3FC;\n",
              "    }\n",
              "\n",
              "    [theme=dark] .colab-df-convert:hover {\n",
              "      background-color: #434B5C;\n",
              "      box-shadow: 0px 1px 3px 1px rgba(0, 0, 0, 0.15);\n",
              "      filter: drop-shadow(0px 1px 2px rgba(0, 0, 0, 0.3));\n",
              "      fill: #FFFFFF;\n",
              "    }\n",
              "  </style>\n",
              "\n",
              "      <script>\n",
              "        const buttonEl =\n",
              "          document.querySelector('#df-c65841bd-d913-40b4-bd23-0dcf826f266b button.colab-df-convert');\n",
              "        buttonEl.style.display =\n",
              "          google.colab.kernel.accessAllowed ? 'block' : 'none';\n",
              "\n",
              "        async function convertToInteractive(key) {\n",
              "          const element = document.querySelector('#df-c65841bd-d913-40b4-bd23-0dcf826f266b');\n",
              "          const dataTable =\n",
              "            await google.colab.kernel.invokeFunction('convertToInteractive',\n",
              "                                                     [key], {});\n",
              "          if (!dataTable) return;\n",
              "\n",
              "          const docLinkHtml = 'Like what you see? Visit the ' +\n",
              "            '<a target=\"_blank\" href=https://colab.research.google.com/notebooks/data_table.ipynb>data table notebook</a>'\n",
              "            + ' to learn more about interactive tables.';\n",
              "          element.innerHTML = '';\n",
              "          dataTable['output_type'] = 'display_data';\n",
              "          await google.colab.output.renderOutput(dataTable, element);\n",
              "          const docLink = document.createElement('div');\n",
              "          docLink.innerHTML = docLinkHtml;\n",
              "          element.appendChild(docLink);\n",
              "        }\n",
              "      </script>\n",
              "    </div>\n",
              "  </div>\n",
              "  "
            ]
          },
          "metadata": {},
          "execution_count": 228
        }
      ]
    },
    {
      "cell_type": "code",
      "source": [
        "area_size = area_code_group.size()\n",
        "print(area_size)"
      ],
      "metadata": {
        "id": "8y_t5MNZet51",
        "colab": {
          "base_uri": "https://localhost:8080/"
        },
        "outputId": "c4b999b4-7aff-4c7a-9315-89382b026705"
      },
      "execution_count": null,
      "outputs": [
        {
          "output_type": "stream",
          "name": "stdout",
          "text": [
            "Area code\n",
            "408     838\n",
            "415    1655\n",
            "510     840\n",
            "dtype: int64\n"
          ]
        }
      ]
    },
    {
      "cell_type": "code",
      "source": [
        "area_churn = area_code_group['Churn'].sum()\n",
        "print(area_churn)"
      ],
      "metadata": {
        "id": "IOJnSgK7et2w",
        "colab": {
          "base_uri": "https://localhost:8080/"
        },
        "outputId": "698a0bdb-0a3b-47f7-fba1-18ab8d40122d"
      },
      "execution_count": null,
      "outputs": [
        {
          "output_type": "stream",
          "name": "stdout",
          "text": [
            "Area code\n",
            "408    122\n",
            "415    236\n",
            "510    125\n",
            "Name: Churn, dtype: int64\n"
          ]
        }
      ]
    },
    {
      "cell_type": "code",
      "source": [
        "perc_area_churn = round(area_churn*100/area_size)\n",
        "print(perc_area_churn)"
      ],
      "metadata": {
        "id": "63T2482uetz2",
        "colab": {
          "base_uri": "https://localhost:8080/"
        },
        "outputId": "159e05cf-992c-4cdf-bd39-5997b483c345"
      },
      "execution_count": null,
      "outputs": [
        {
          "output_type": "stream",
          "name": "stdout",
          "text": [
            "Area code\n",
            "408    15.0\n",
            "415    14.0\n",
            "510    15.0\n",
            "dtype: float64\n"
          ]
        }
      ]
    },
    {
      "cell_type": "markdown",
      "source": [
        "## From the graph it can be seen that the churn is uniformly distributed amongst areas. Hence, the problem is not a concentrated issue."
      ],
      "metadata": {
        "id": "ax7dTIWbnszT"
      }
    },
    {
      "cell_type": "code",
      "source": [
        "perc_area_churn.plot(kind='bar',title='% Churn in Area')"
      ],
      "metadata": {
        "id": "ubwcaEQ7etw_",
        "colab": {
          "base_uri": "https://localhost:8080/",
          "height": 326
        },
        "outputId": "795f4ff0-3980-4266-d1d9-d1b344b4419b"
      },
      "execution_count": null,
      "outputs": [
        {
          "output_type": "execute_result",
          "data": {
            "text/plain": [
              "<matplotlib.axes._subplots.AxesSubplot at 0x7fde19558150>"
            ]
          },
          "metadata": {},
          "execution_count": 233
        },
        {
          "output_type": "display_data",
          "data": {
            "text/plain": [
              "<Figure size 432x288 with 1 Axes>"
            ],
            "image/png": "[encoded data removed]"
          },
          "metadata": {}
        }
      ]
    },
    {
      "cell_type": "code",
      "source": [],
      "metadata": {
        "id": "v0E1h3gietuM"
      },
      "execution_count": null,
      "outputs": []
    },
    {
      "cell_type": "markdown",
      "source": [
        "F"
      ],
      "metadata": {
        "id": "PQXcTkoxnp-s"
      }
    },
    {
      "cell_type": "code",
      "source": [],
      "metadata": {
        "id": "_haxloOFk56_"
      },
      "execution_count": null,
      "outputs": []
    },
    {
      "cell_type": "code",
      "source": [],
      "metadata": {
        "id": "FQmiI4Q6k53x"
      },
      "execution_count": null,
      "outputs": []
    },
    {
      "cell_type": "code",
      "source": [],
      "metadata": {
        "id": "WeXAl9Vak51o"
      },
      "execution_count": null,
      "outputs": []
    },
    {
      "cell_type": "code",
      "source": [],
      "metadata": {
        "id": "2f6n41tGk5yq"
      },
      "execution_count": null,
      "outputs": []
    },
    {
      "cell_type": "code",
      "source": [],
      "metadata": {
        "id": "UmlzT8Uyk5v8"
      },
      "execution_count": null,
      "outputs": []
    },
    {
      "cell_type": "code",
      "source": [],
      "metadata": {
        "id": "T_rGMXunk5tO"
      },
      "execution_count": null,
      "outputs": []
    },
    {
      "cell_type": "code",
      "source": [],
      "metadata": {
        "id": "awHqaw5ck5qt"
      },
      "execution_count": null,
      "outputs": []
    },
    {
      "cell_type": "code",
      "source": [],
      "metadata": {
        "id": "IC0_DEXWk5oE"
      },
      "execution_count": null,
      "outputs": []
    },
    {
      "cell_type": "code",
      "source": [],
      "metadata": {
        "id": "V_rEfysnk5lY"
      },
      "execution_count": null,
      "outputs": []
    },
    {
      "cell_type": "code",
      "source": [],
      "metadata": {
        "id": "ddZ9CP7nk5is"
      },
      "execution_count": null,
      "outputs": []
    },
    {
      "cell_type": "code",
      "source": [],
      "metadata": {
        "id": "QPfIFucak5gG"
      },
      "execution_count": null,
      "outputs": []
    },
    {
      "cell_type": "code",
      "source": [],
      "metadata": {
        "id": "UIM9gPLAk5dy"
      },
      "execution_count": null,
      "outputs": []
    },
    {
      "cell_type": "code",
      "source": [],
      "metadata": {
        "id": "raAn-j_Ok5bL"
      },
      "execution_count": null,
      "outputs": []
    },
    {
      "cell_type": "code",
      "source": [],
      "metadata": {
        "id": "ivvqUnBYk5Yw"
      },
      "execution_count": null,
      "outputs": []
    },
    {
      "cell_type": "code",
      "source": [],
      "metadata": {
        "id": "YIjXqB0vk5VO"
      },
      "execution_count": null,
      "outputs": []
    },
    {
      "cell_type": "code",
      "source": [],
      "metadata": {
        "id": "uZcrWlccetrP"
      },
      "execution_count": null,
      "outputs": []
    }
  ]
}